{
 "cells": [
  {
   "cell_type": "code",
   "execution_count": 214,
   "id": "3f00122c",
   "metadata": {},
   "outputs": [],
   "source": [
    "import pandas as pd\n",
    "import numpy as np\n",
    "from sklearn.model_selection import train_test_split as tts\n",
    "from sklearn.preprocessing import StandardScaler"
   ]
  },
  {
   "cell_type": "code",
   "execution_count": 215,
   "id": "8213beb2",
   "metadata": {},
   "outputs": [
    {
     "data": {
      "text/html": [
       "<div>\n",
       "<style scoped>\n",
       "    .dataframe tbody tr th:only-of-type {\n",
       "        vertical-align: middle;\n",
       "    }\n",
       "\n",
       "    .dataframe tbody tr th {\n",
       "        vertical-align: top;\n",
       "    }\n",
       "\n",
       "    .dataframe thead th {\n",
       "        text-align: right;\n",
       "    }\n",
       "</style>\n",
       "<table border=\"1\" class=\"dataframe\">\n",
       "  <thead>\n",
       "    <tr style=\"text-align: right;\">\n",
       "      <th></th>\n",
       "      <th>Age</th>\n",
       "      <th>Sex</th>\n",
       "      <th>ChestPainType</th>\n",
       "      <th>RestingBP</th>\n",
       "      <th>Cholesterol</th>\n",
       "      <th>FastingBS</th>\n",
       "      <th>RestingECG</th>\n",
       "      <th>MaxHR</th>\n",
       "      <th>ExerciseAngina</th>\n",
       "      <th>Oldpeak</th>\n",
       "      <th>ST_Slope</th>\n",
       "      <th>HeartDisease</th>\n",
       "    </tr>\n",
       "  </thead>\n",
       "  <tbody>\n",
       "    <tr>\n",
       "      <th>0</th>\n",
       "      <td>40</td>\n",
       "      <td>M</td>\n",
       "      <td>ATA</td>\n",
       "      <td>140</td>\n",
       "      <td>289</td>\n",
       "      <td>0</td>\n",
       "      <td>Normal</td>\n",
       "      <td>172</td>\n",
       "      <td>N</td>\n",
       "      <td>0.0</td>\n",
       "      <td>Up</td>\n",
       "      <td>0</td>\n",
       "    </tr>\n",
       "    <tr>\n",
       "      <th>1</th>\n",
       "      <td>49</td>\n",
       "      <td>F</td>\n",
       "      <td>NAP</td>\n",
       "      <td>160</td>\n",
       "      <td>180</td>\n",
       "      <td>0</td>\n",
       "      <td>Normal</td>\n",
       "      <td>156</td>\n",
       "      <td>N</td>\n",
       "      <td>1.0</td>\n",
       "      <td>Flat</td>\n",
       "      <td>1</td>\n",
       "    </tr>\n",
       "    <tr>\n",
       "      <th>2</th>\n",
       "      <td>37</td>\n",
       "      <td>M</td>\n",
       "      <td>ATA</td>\n",
       "      <td>130</td>\n",
       "      <td>283</td>\n",
       "      <td>0</td>\n",
       "      <td>ST</td>\n",
       "      <td>98</td>\n",
       "      <td>N</td>\n",
       "      <td>0.0</td>\n",
       "      <td>Up</td>\n",
       "      <td>0</td>\n",
       "    </tr>\n",
       "    <tr>\n",
       "      <th>3</th>\n",
       "      <td>48</td>\n",
       "      <td>F</td>\n",
       "      <td>ASY</td>\n",
       "      <td>138</td>\n",
       "      <td>214</td>\n",
       "      <td>0</td>\n",
       "      <td>Normal</td>\n",
       "      <td>108</td>\n",
       "      <td>Y</td>\n",
       "      <td>1.5</td>\n",
       "      <td>Flat</td>\n",
       "      <td>1</td>\n",
       "    </tr>\n",
       "    <tr>\n",
       "      <th>4</th>\n",
       "      <td>54</td>\n",
       "      <td>M</td>\n",
       "      <td>NAP</td>\n",
       "      <td>150</td>\n",
       "      <td>195</td>\n",
       "      <td>0</td>\n",
       "      <td>Normal</td>\n",
       "      <td>122</td>\n",
       "      <td>N</td>\n",
       "      <td>0.0</td>\n",
       "      <td>Up</td>\n",
       "      <td>0</td>\n",
       "    </tr>\n",
       "    <tr>\n",
       "      <th>5</th>\n",
       "      <td>39</td>\n",
       "      <td>M</td>\n",
       "      <td>NAP</td>\n",
       "      <td>120</td>\n",
       "      <td>339</td>\n",
       "      <td>0</td>\n",
       "      <td>Normal</td>\n",
       "      <td>170</td>\n",
       "      <td>N</td>\n",
       "      <td>0.0</td>\n",
       "      <td>Up</td>\n",
       "      <td>0</td>\n",
       "    </tr>\n",
       "    <tr>\n",
       "      <th>6</th>\n",
       "      <td>45</td>\n",
       "      <td>F</td>\n",
       "      <td>ATA</td>\n",
       "      <td>130</td>\n",
       "      <td>237</td>\n",
       "      <td>0</td>\n",
       "      <td>Normal</td>\n",
       "      <td>170</td>\n",
       "      <td>N</td>\n",
       "      <td>0.0</td>\n",
       "      <td>Up</td>\n",
       "      <td>0</td>\n",
       "    </tr>\n",
       "    <tr>\n",
       "      <th>7</th>\n",
       "      <td>54</td>\n",
       "      <td>M</td>\n",
       "      <td>ATA</td>\n",
       "      <td>110</td>\n",
       "      <td>208</td>\n",
       "      <td>0</td>\n",
       "      <td>Normal</td>\n",
       "      <td>142</td>\n",
       "      <td>N</td>\n",
       "      <td>0.0</td>\n",
       "      <td>Up</td>\n",
       "      <td>0</td>\n",
       "    </tr>\n",
       "    <tr>\n",
       "      <th>8</th>\n",
       "      <td>37</td>\n",
       "      <td>M</td>\n",
       "      <td>ASY</td>\n",
       "      <td>140</td>\n",
       "      <td>207</td>\n",
       "      <td>0</td>\n",
       "      <td>Normal</td>\n",
       "      <td>130</td>\n",
       "      <td>Y</td>\n",
       "      <td>1.5</td>\n",
       "      <td>Flat</td>\n",
       "      <td>1</td>\n",
       "    </tr>\n",
       "    <tr>\n",
       "      <th>9</th>\n",
       "      <td>48</td>\n",
       "      <td>F</td>\n",
       "      <td>ATA</td>\n",
       "      <td>120</td>\n",
       "      <td>284</td>\n",
       "      <td>0</td>\n",
       "      <td>Normal</td>\n",
       "      <td>120</td>\n",
       "      <td>N</td>\n",
       "      <td>0.0</td>\n",
       "      <td>Up</td>\n",
       "      <td>0</td>\n",
       "    </tr>\n",
       "  </tbody>\n",
       "</table>\n",
       "</div>"
      ],
      "text/plain": [
       "   Age Sex ChestPainType  RestingBP  Cholesterol  FastingBS RestingECG  MaxHR  \\\n",
       "0   40   M           ATA        140          289          0     Normal    172   \n",
       "1   49   F           NAP        160          180          0     Normal    156   \n",
       "2   37   M           ATA        130          283          0         ST     98   \n",
       "3   48   F           ASY        138          214          0     Normal    108   \n",
       "4   54   M           NAP        150          195          0     Normal    122   \n",
       "5   39   M           NAP        120          339          0     Normal    170   \n",
       "6   45   F           ATA        130          237          0     Normal    170   \n",
       "7   54   M           ATA        110          208          0     Normal    142   \n",
       "8   37   M           ASY        140          207          0     Normal    130   \n",
       "9   48   F           ATA        120          284          0     Normal    120   \n",
       "\n",
       "  ExerciseAngina  Oldpeak ST_Slope  HeartDisease  \n",
       "0              N      0.0       Up             0  \n",
       "1              N      1.0     Flat             1  \n",
       "2              N      0.0       Up             0  \n",
       "3              Y      1.5     Flat             1  \n",
       "4              N      0.0       Up             0  \n",
       "5              N      0.0       Up             0  \n",
       "6              N      0.0       Up             0  \n",
       "7              N      0.0       Up             0  \n",
       "8              Y      1.5     Flat             1  \n",
       "9              N      0.0       Up             0  "
      ]
     },
     "execution_count": 215,
     "metadata": {},
     "output_type": "execute_result"
    }
   ],
   "source": [
    "df = pd.read_csv(r\"c:\\Users\\USER\\Desktop\\MyDatasets\\heart.csv\")\n",
    "df.head(10)"
   ]
  },
  {
   "cell_type": "markdown",
   "id": "c2c6a1fb",
   "metadata": {},
   "source": [
    "# Preparing the data.\n",
    "1. First we replace categorical data with numeric values"
   ]
  },
  {
   "cell_type": "code",
   "execution_count": 216,
   "id": "24154dba",
   "metadata": {},
   "outputs": [
    {
     "data": {
      "text/html": [
       "<div>\n",
       "<style scoped>\n",
       "    .dataframe tbody tr th:only-of-type {\n",
       "        vertical-align: middle;\n",
       "    }\n",
       "\n",
       "    .dataframe tbody tr th {\n",
       "        vertical-align: top;\n",
       "    }\n",
       "\n",
       "    .dataframe thead th {\n",
       "        text-align: right;\n",
       "    }\n",
       "</style>\n",
       "<table border=\"1\" class=\"dataframe\">\n",
       "  <thead>\n",
       "    <tr style=\"text-align: right;\">\n",
       "      <th></th>\n",
       "      <th>Age</th>\n",
       "      <th>Sex</th>\n",
       "      <th>ChestPainType</th>\n",
       "      <th>RestingBP</th>\n",
       "      <th>Cholesterol</th>\n",
       "      <th>FastingBS</th>\n",
       "      <th>RestingECG</th>\n",
       "      <th>MaxHR</th>\n",
       "      <th>ExerciseAngina</th>\n",
       "      <th>Oldpeak</th>\n",
       "      <th>ST_Slope</th>\n",
       "      <th>HeartDisease</th>\n",
       "    </tr>\n",
       "  </thead>\n",
       "  <tbody>\n",
       "    <tr>\n",
       "      <th>0</th>\n",
       "      <td>40</td>\n",
       "      <td>1</td>\n",
       "      <td>0</td>\n",
       "      <td>140</td>\n",
       "      <td>289</td>\n",
       "      <td>0</td>\n",
       "      <td>0</td>\n",
       "      <td>172</td>\n",
       "      <td>0</td>\n",
       "      <td>0.0</td>\n",
       "      <td>0</td>\n",
       "      <td>0</td>\n",
       "    </tr>\n",
       "    <tr>\n",
       "      <th>1</th>\n",
       "      <td>49</td>\n",
       "      <td>0</td>\n",
       "      <td>1</td>\n",
       "      <td>160</td>\n",
       "      <td>180</td>\n",
       "      <td>0</td>\n",
       "      <td>0</td>\n",
       "      <td>156</td>\n",
       "      <td>0</td>\n",
       "      <td>1.0</td>\n",
       "      <td>1</td>\n",
       "      <td>1</td>\n",
       "    </tr>\n",
       "    <tr>\n",
       "      <th>2</th>\n",
       "      <td>37</td>\n",
       "      <td>1</td>\n",
       "      <td>0</td>\n",
       "      <td>130</td>\n",
       "      <td>283</td>\n",
       "      <td>0</td>\n",
       "      <td>1</td>\n",
       "      <td>98</td>\n",
       "      <td>0</td>\n",
       "      <td>0.0</td>\n",
       "      <td>0</td>\n",
       "      <td>0</td>\n",
       "    </tr>\n",
       "    <tr>\n",
       "      <th>3</th>\n",
       "      <td>48</td>\n",
       "      <td>0</td>\n",
       "      <td>2</td>\n",
       "      <td>138</td>\n",
       "      <td>214</td>\n",
       "      <td>0</td>\n",
       "      <td>0</td>\n",
       "      <td>108</td>\n",
       "      <td>1</td>\n",
       "      <td>1.5</td>\n",
       "      <td>1</td>\n",
       "      <td>1</td>\n",
       "    </tr>\n",
       "    <tr>\n",
       "      <th>4</th>\n",
       "      <td>54</td>\n",
       "      <td>1</td>\n",
       "      <td>1</td>\n",
       "      <td>150</td>\n",
       "      <td>195</td>\n",
       "      <td>0</td>\n",
       "      <td>0</td>\n",
       "      <td>122</td>\n",
       "      <td>0</td>\n",
       "      <td>0.0</td>\n",
       "      <td>0</td>\n",
       "      <td>0</td>\n",
       "    </tr>\n",
       "    <tr>\n",
       "      <th>5</th>\n",
       "      <td>39</td>\n",
       "      <td>1</td>\n",
       "      <td>1</td>\n",
       "      <td>120</td>\n",
       "      <td>339</td>\n",
       "      <td>0</td>\n",
       "      <td>0</td>\n",
       "      <td>170</td>\n",
       "      <td>0</td>\n",
       "      <td>0.0</td>\n",
       "      <td>0</td>\n",
       "      <td>0</td>\n",
       "    </tr>\n",
       "    <tr>\n",
       "      <th>6</th>\n",
       "      <td>45</td>\n",
       "      <td>0</td>\n",
       "      <td>0</td>\n",
       "      <td>130</td>\n",
       "      <td>237</td>\n",
       "      <td>0</td>\n",
       "      <td>0</td>\n",
       "      <td>170</td>\n",
       "      <td>0</td>\n",
       "      <td>0.0</td>\n",
       "      <td>0</td>\n",
       "      <td>0</td>\n",
       "    </tr>\n",
       "    <tr>\n",
       "      <th>7</th>\n",
       "      <td>54</td>\n",
       "      <td>1</td>\n",
       "      <td>0</td>\n",
       "      <td>110</td>\n",
       "      <td>208</td>\n",
       "      <td>0</td>\n",
       "      <td>0</td>\n",
       "      <td>142</td>\n",
       "      <td>0</td>\n",
       "      <td>0.0</td>\n",
       "      <td>0</td>\n",
       "      <td>0</td>\n",
       "    </tr>\n",
       "    <tr>\n",
       "      <th>8</th>\n",
       "      <td>37</td>\n",
       "      <td>1</td>\n",
       "      <td>2</td>\n",
       "      <td>140</td>\n",
       "      <td>207</td>\n",
       "      <td>0</td>\n",
       "      <td>0</td>\n",
       "      <td>130</td>\n",
       "      <td>1</td>\n",
       "      <td>1.5</td>\n",
       "      <td>1</td>\n",
       "      <td>1</td>\n",
       "    </tr>\n",
       "    <tr>\n",
       "      <th>9</th>\n",
       "      <td>48</td>\n",
       "      <td>0</td>\n",
       "      <td>0</td>\n",
       "      <td>120</td>\n",
       "      <td>284</td>\n",
       "      <td>0</td>\n",
       "      <td>0</td>\n",
       "      <td>120</td>\n",
       "      <td>0</td>\n",
       "      <td>0.0</td>\n",
       "      <td>0</td>\n",
       "      <td>0</td>\n",
       "    </tr>\n",
       "  </tbody>\n",
       "</table>\n",
       "</div>"
      ],
      "text/plain": [
       "   Age  Sex  ChestPainType  RestingBP  Cholesterol  FastingBS  RestingECG  \\\n",
       "0   40    1              0        140          289          0           0   \n",
       "1   49    0              1        160          180          0           0   \n",
       "2   37    1              0        130          283          0           1   \n",
       "3   48    0              2        138          214          0           0   \n",
       "4   54    1              1        150          195          0           0   \n",
       "5   39    1              1        120          339          0           0   \n",
       "6   45    0              0        130          237          0           0   \n",
       "7   54    1              0        110          208          0           0   \n",
       "8   37    1              2        140          207          0           0   \n",
       "9   48    0              0        120          284          0           0   \n",
       "\n",
       "   MaxHR  ExerciseAngina  Oldpeak  ST_Slope  HeartDisease  \n",
       "0    172               0      0.0         0             0  \n",
       "1    156               0      1.0         1             1  \n",
       "2     98               0      0.0         0             0  \n",
       "3    108               1      1.5         1             1  \n",
       "4    122               0      0.0         0             0  \n",
       "5    170               0      0.0         0             0  \n",
       "6    170               0      0.0         0             0  \n",
       "7    142               0      0.0         0             0  \n",
       "8    130               1      1.5         1             1  \n",
       "9    120               0      0.0         0             0  "
      ]
     },
     "execution_count": 216,
     "metadata": {},
     "output_type": "execute_result"
    }
   ],
   "source": [
    "df.Sex.replace(['F', 'M'], [0, 1], inplace=True)\n",
    "df.ChestPainType.replace(['ATA', 'NAP', 'ASY', 'TA'], [0, 1, 2, 3], inplace=True)\n",
    "df.RestingECG.replace(['Normal', 'ST', 'LVH'], [0, 1, 2], inplace=True)\n",
    "df.ExerciseAngina.replace(['N', 'Y'], [0, 1], inplace=True)\n",
    "df.ST_Slope.replace(['Up', 'Flat', 'Down'], [0, 1, 2], inplace=True)\n",
    "df.head(10)"
   ]
  },
  {
   "cell_type": "markdown",
   "id": "a5c2ed3c",
   "metadata": {},
   "source": [
    "2. We convert the dataframe to a numpy array **and** split the dataset into train and test segments "
   ]
  },
  {
   "cell_type": "code",
   "execution_count": 217,
   "id": "3c959044",
   "metadata": {},
   "outputs": [],
   "source": [
    "data = df.to_numpy()\n",
    "\n",
    "X = data[:, :11]\n",
    "Y = data[:, 11]\n",
    "\n",
    "X_train, X_test, Y_train, Y_test = tts(X, Y, test_size=0.2, random_state=1, shuffle=True)"
   ]
  },
  {
   "cell_type": "markdown",
   "id": "2f14b6db",
   "metadata": {},
   "source": [
    "3. We scale our data, as most machine learning models do better when the input data is scaled or normalised."
   ]
  },
  {
   "cell_type": "code",
   "execution_count": 218,
   "id": "83c285e8",
   "metadata": {},
   "outputs": [],
   "source": [
    "sc = StandardScaler()\n",
    "X_train_scaled = sc.fit_transform(X_train)\n",
    "X_test_scaled = sc.transform(X_test)"
   ]
  },
  {
   "cell_type": "markdown",
   "id": "24e4df4f",
   "metadata": {},
   "source": [
    "# Decision Tree Classifier"
   ]
  },
  {
   "cell_type": "code",
   "execution_count": 221,
   "id": "7c82e23e",
   "metadata": {},
   "outputs": [
    {
     "name": "stdout",
     "output_type": "stream",
     "text": [
      "Accuracy of model: 78%\n"
     ]
    }
   ],
   "source": [
    "from sklearn.tree import DecisionTreeClassifier\n",
    "\n",
    "clf = DecisionTreeClassifier(random_state=1)\n",
    "clf.fit(X_train_scaled, Y_train)\n",
    "\n",
    "accuracy = round(((clf.score(X_test_scaled, Y_test)) * 100 ))\n",
    "print(f'Accuracy of model: {accuracy}%')"
   ]
  },
  {
   "cell_type": "markdown",
   "id": "9f7c0244",
   "metadata": {},
   "source": [
    "### Let's try something cheeky with the K-Fold cross_validation\n",
    "Perhaps we could improve the accuracy of the DecisionTreeClassifier"
   ]
  },
  {
   "cell_type": "code",
   "execution_count": 222,
   "id": "b048c089",
   "metadata": {},
   "outputs": [
    {
     "name": "stdout",
     "output_type": "stream",
     "text": [
      "Accuracy of model: 79%\n"
     ]
    }
   ],
   "source": [
    "from sklearn.model_selection import cross_val_score\n",
    "clf = DecisionTreeClassifier(random_state=1)\n",
    "cv_scores = cross_val_score(clf, X, Y, cv=26)\n",
    "accuracy = round((cv_scores.mean()) * 100)\n",
    "print(f'Accuracy of model: {accuracy}%')"
   ]
  },
  {
   "cell_type": "markdown",
   "id": "b3d69264",
   "metadata": {},
   "source": [
    "A little improvement. \n",
    "Generally, basic decision tree isn't so much of an efficient model choice."
   ]
  },
  {
   "cell_type": "markdown",
   "id": "b0af16cd",
   "metadata": {},
   "source": [
    "### RandomForestClassifier"
   ]
  },
  {
   "cell_type": "code",
   "execution_count": 224,
   "id": "9652f5dc",
   "metadata": {},
   "outputs": [
    {
     "name": "stdout",
     "output_type": "stream",
     "text": [
      "Accuracy of model: 90%\n"
     ]
    }
   ],
   "source": [
    "from sklearn.ensemble import RandomForestClassifier\n",
    "\n",
    "clf = RandomForestClassifier(n_estimators=35, random_state=1)\n",
    "clf.fit(X_train_scaled, Y_train)\n",
    "accuracy = round((clf.score(X_test_scaled, Y_test) * 100))\n",
    "print(f'Accuracy of model: {accuracy}%')"
   ]
  },
  {
   "cell_type": "markdown",
   "id": "42063492",
   "metadata": {},
   "source": [
    "***Wow***!!! what a jump. 11% improvement on accuracy.\n",
    "\n",
    "Now we could go ahead and use the K-Fold cross validation; there might be room for  more improvement."
   ]
  },
  {
   "cell_type": "markdown",
   "id": "ad4b27e3",
   "metadata": {},
   "source": [
    "### SVM"
   ]
  },
  {
   "cell_type": "code",
   "execution_count": 225,
   "id": "2731fb31",
   "metadata": {},
   "outputs": [
    {
     "name": "stdout",
     "output_type": "stream",
     "text": [
      "Accuracy of model: 91%\n"
     ]
    }
   ],
   "source": [
    "from sklearn import svm\n",
    "svc = svm.SVC(kernel='rbf', C=1.0)\n",
    "svc.fit(X_train_scaled, Y_train)\n",
    "accuracy = round((svc.score(X_test_scaled, Y_test))*100)\n",
    "print(f'Accuracy of model: {accuracy}%')"
   ]
  },
  {
   "cell_type": "markdown",
   "id": "ff4ef2cb",
   "metadata": {},
   "source": [
    "The SVM model has upped accuracy by 1%, impressive."
   ]
  },
  {
   "cell_type": "markdown",
   "id": "58ae93bf",
   "metadata": {},
   "source": [
    "### KNN (K-Nearest Neighbours)"
   ]
  },
  {
   "cell_type": "code",
   "execution_count": 228,
   "id": "067e54e8",
   "metadata": {},
   "outputs": [
    {
     "name": "stdout",
     "output_type": "stream",
     "text": [
      "Accuracy of model: 91%\n"
     ]
    }
   ],
   "source": [
    "from sklearn import neighbors\n",
    "\n",
    "clf = neighbors.KNeighborsClassifier(n_neighbors=10)\n",
    "clf.fit(X_train_scaled, Y_train)\n",
    "accuracy = round((svc.score(X_test_scaled, Y_test)) * 100)\n",
    "print(f'Accuracy of model: {accuracy}%')"
   ]
  },
  {
   "cell_type": "markdown",
   "id": "7c71dfa1",
   "metadata": {},
   "source": [
    "When working with **KNNs**, choosing the K value is a bit tricky, so it's best to create a loop that train the model over different values of K. <br>\n",
    "Then we can go ahead to  select the K value with the highest accuracy."
   ]
  },
  {
   "cell_type": "code",
   "execution_count": 230,
   "id": "d46c55e7",
   "metadata": {},
   "outputs": [
    {
     "name": "stdout",
     "output_type": "stream",
     "text": [
      "Accuracy of model using K value of 1: 91%\n",
      "Accuracy of model using K value of 2: 91%\n",
      "Accuracy of model using K value of 3: 91%\n",
      "Accuracy of model using K value of 4: 91%\n",
      "Accuracy of model using K value of 5: 91%\n",
      "Accuracy of model using K value of 6: 91%\n",
      "Accuracy of model using K value of 7: 91%\n",
      "Accuracy of model using K value of 8: 91%\n",
      "Accuracy of model using K value of 9: 91%\n",
      "Accuracy of model using K value of 10: 91%\n",
      "Accuracy of model using K value of 11: 91%\n",
      "Accuracy of model using K value of 12: 91%\n",
      "Accuracy of model using K value of 13: 91%\n",
      "Accuracy of model using K value of 14: 91%\n",
      "Accuracy of model using K value of 15: 91%\n",
      "Accuracy of model using K value of 16: 91%\n",
      "Accuracy of model using K value of 17: 91%\n",
      "Accuracy of model using K value of 18: 91%\n",
      "Accuracy of model using K value of 19: 91%\n",
      "Accuracy of model using K value of 20: 91%\n",
      "Accuracy of model using K value of 21: 91%\n",
      "Accuracy of model using K value of 22: 91%\n",
      "Accuracy of model using K value of 23: 91%\n",
      "Accuracy of model using K value of 24: 91%\n",
      "Accuracy of model using K value of 25: 91%\n",
      "Accuracy of model using K value of 26: 91%\n",
      "Accuracy of model using K value of 27: 91%\n",
      "Accuracy of model using K value of 28: 91%\n",
      "Accuracy of model using K value of 29: 91%\n",
      "Accuracy of model using K value of 30: 91%\n",
      "Accuracy of model using K value of 31: 91%\n",
      "Accuracy of model using K value of 32: 91%\n",
      "Accuracy of model using K value of 33: 91%\n",
      "Accuracy of model using K value of 34: 91%\n",
      "Accuracy of model using K value of 35: 91%\n",
      "Accuracy of model using K value of 36: 91%\n",
      "Accuracy of model using K value of 37: 91%\n",
      "Accuracy of model using K value of 38: 91%\n",
      "Accuracy of model using K value of 39: 91%\n",
      "Accuracy of model using K value of 40: 91%\n",
      "Accuracy of model using K value of 41: 91%\n",
      "Accuracy of model using K value of 42: 91%\n",
      "Accuracy of model using K value of 43: 91%\n",
      "Accuracy of model using K value of 44: 91%\n",
      "Accuracy of model using K value of 45: 91%\n",
      "Accuracy of model using K value of 46: 91%\n",
      "Accuracy of model using K value of 47: 91%\n",
      "Accuracy of model using K value of 48: 91%\n",
      "Accuracy of model using K value of 49: 91%\n",
      "Accuracy of model using K value of 50: 91%\n"
     ]
    }
   ],
   "source": [
    "for i in range(1, 51):\n",
    "    clf = neighbors.KNeighborsClassifier(n_neighbors=i)\n",
    "    clf.fit(X_train_scaled, Y_train)\n",
    "    accuracy = round((svc.score(X_test_scaled, Y_test))*100)\n",
    "    print(f'Accuracy of model using K value of {i}: {accuracy}%')"
   ]
  },
  {
   "cell_type": "markdown",
   "id": "8d1f1c0b",
   "metadata": {},
   "source": [
    "Apparently, K values doesn't affect the model performance. But this is doesn't happen too often."
   ]
  },
  {
   "cell_type": "markdown",
   "id": "f6cf838b",
   "metadata": {},
   "source": [
    "### Naive Bayes\n",
    "It's important to note that doesn't take negative feature values, as regarding our earlier scaled features. <br>\n",
    "So we'll have to use the MinMaxScaler instead of the StandardScaler"
   ]
  },
  {
   "cell_type": "code",
   "execution_count": 235,
   "id": "5b549237",
   "metadata": {},
   "outputs": [
    {
     "name": "stdout",
     "output_type": "stream",
     "text": [
      "Accuracy of the model: 89%\n"
     ]
    }
   ],
   "source": [
    "from sklearn.naive_bayes import MultinomialNB\n",
    "from sklearn.preprocessing import MinMaxScaler\n",
    "\n",
    "# scale the input features\n",
    "scaler = MinMaxScaler()\n",
    "X_train_minmax = scaler.fit_transform(X_train)\n",
    "X_test_minmax = scaler.transform(X_test)\n",
    "\n",
    "# define the classifier\n",
    "clf = MultinomialNB()\n",
    "clf.fit(X_train_minmax, Y_train)\n",
    "accuracy = round((clf.score(X_test_minmax, Y_test)) * 100)\n",
    "print(f'Accuracy of the model: {accuracy}%')"
   ]
  },
  {
   "cell_type": "markdown",
   "id": "770b90ad",
   "metadata": {},
   "source": [
    "Naive Bayes is 2 points back from the accuracy score to beat. <br>\n",
    "But the NB model did alright."
   ]
  },
  {
   "cell_type": "markdown",
   "id": "a3d5d25d",
   "metadata": {},
   "source": [
    "### LogisticRegression\n",
    "We've seen the performance of all these fancy models.<br>\n",
    "But this is a basic binary classification so, let's try the LogisticRegression model which is a rather simpler approach to this type of classification"
   ]
  },
  {
   "cell_type": "code",
   "execution_count": 247,
   "id": "39f97177",
   "metadata": {},
   "outputs": [
    {
     "name": "stdout",
     "output_type": "stream",
     "text": [
      "Accuracy of the model: 88%\n"
     ]
    }
   ],
   "source": [
    "from sklearn.linear_model import LogisticRegression\n",
    "\n",
    "clf = LogisticRegression()\n",
    "clf.fit(X_train_scaled, Y_train)\n",
    "accuracy = round((clf.score(X_test_scaled, Y_test))*100)\n",
    "print(f'Accuracy of the model: {accuracy}%')"
   ]
  },
  {
   "cell_type": "markdown",
   "id": "76c9dea9",
   "metadata": {},
   "source": []
  }
 ],
 "metadata": {
  "kernelspec": {
   "display_name": "Python 3",
   "language": "python",
   "name": "python3"
  },
  "language_info": {
   "codemirror_mode": {
    "name": "ipython",
    "version": 3
   },
   "file_extension": ".py",
   "mimetype": "text/x-python",
   "name": "python",
   "nbconvert_exporter": "python",
   "pygments_lexer": "ipython3",
   "version": "3.8.8"
  }
 },
 "nbformat": 4,
 "nbformat_minor": 5
}
