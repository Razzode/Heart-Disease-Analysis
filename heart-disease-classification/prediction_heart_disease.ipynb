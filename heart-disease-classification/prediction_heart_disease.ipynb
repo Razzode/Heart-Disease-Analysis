{
 "cells": [
  {
   "cell_type": "code",
   "execution_count": 1,
   "id": "3f00122c",
   "metadata": {},
   "outputs": [],
   "source": [
    "import pandas as pd\n",
    "import numpy as np\n",
    "from sklearn.model_selection import train_test_split as tts\n",
    "from sklearn.preprocessing import StandardScaler"
   ]
  },
  {
   "cell_type": "code",
   "execution_count": 2,
   "id": "8213beb2",
   "metadata": {},
   "outputs": [
    {
     "data": {
      "text/html": [
       "<div>\n",
       "<style scoped>\n",
       "    .dataframe tbody tr th:only-of-type {\n",
       "        vertical-align: middle;\n",
       "    }\n",
       "\n",
       "    .dataframe tbody tr th {\n",
       "        vertical-align: top;\n",
       "    }\n",
       "\n",
       "    .dataframe thead th {\n",
       "        text-align: right;\n",
       "    }\n",
       "</style>\n",
       "<table border=\"1\" class=\"dataframe\">\n",
       "  <thead>\n",
       "    <tr style=\"text-align: right;\">\n",
       "      <th></th>\n",
       "      <th>Age</th>\n",
       "      <th>Sex</th>\n",
       "      <th>ChestPainType</th>\n",
       "      <th>RestingBP</th>\n",
       "      <th>Cholesterol</th>\n",
       "      <th>FastingBS</th>\n",
       "      <th>RestingECG</th>\n",
       "      <th>MaxHR</th>\n",
       "      <th>ExerciseAngina</th>\n",
       "      <th>Oldpeak</th>\n",
       "      <th>ST_Slope</th>\n",
       "      <th>HeartDisease</th>\n",
       "    </tr>\n",
       "  </thead>\n",
       "  <tbody>\n",
       "    <tr>\n",
       "      <th>0</th>\n",
       "      <td>40</td>\n",
       "      <td>M</td>\n",
       "      <td>ATA</td>\n",
       "      <td>140</td>\n",
       "      <td>289</td>\n",
       "      <td>0</td>\n",
       "      <td>Normal</td>\n",
       "      <td>172</td>\n",
       "      <td>N</td>\n",
       "      <td>0.0</td>\n",
       "      <td>Up</td>\n",
       "      <td>0</td>\n",
       "    </tr>\n",
       "    <tr>\n",
       "      <th>1</th>\n",
       "      <td>49</td>\n",
       "      <td>F</td>\n",
       "      <td>NAP</td>\n",
       "      <td>160</td>\n",
       "      <td>180</td>\n",
       "      <td>0</td>\n",
       "      <td>Normal</td>\n",
       "      <td>156</td>\n",
       "      <td>N</td>\n",
       "      <td>1.0</td>\n",
       "      <td>Flat</td>\n",
       "      <td>1</td>\n",
       "    </tr>\n",
       "    <tr>\n",
       "      <th>2</th>\n",
       "      <td>37</td>\n",
       "      <td>M</td>\n",
       "      <td>ATA</td>\n",
       "      <td>130</td>\n",
       "      <td>283</td>\n",
       "      <td>0</td>\n",
       "      <td>ST</td>\n",
       "      <td>98</td>\n",
       "      <td>N</td>\n",
       "      <td>0.0</td>\n",
       "      <td>Up</td>\n",
       "      <td>0</td>\n",
       "    </tr>\n",
       "    <tr>\n",
       "      <th>3</th>\n",
       "      <td>48</td>\n",
       "      <td>F</td>\n",
       "      <td>ASY</td>\n",
       "      <td>138</td>\n",
       "      <td>214</td>\n",
       "      <td>0</td>\n",
       "      <td>Normal</td>\n",
       "      <td>108</td>\n",
       "      <td>Y</td>\n",
       "      <td>1.5</td>\n",
       "      <td>Flat</td>\n",
       "      <td>1</td>\n",
       "    </tr>\n",
       "    <tr>\n",
       "      <th>4</th>\n",
       "      <td>54</td>\n",
       "      <td>M</td>\n",
       "      <td>NAP</td>\n",
       "      <td>150</td>\n",
       "      <td>195</td>\n",
       "      <td>0</td>\n",
       "      <td>Normal</td>\n",
       "      <td>122</td>\n",
       "      <td>N</td>\n",
       "      <td>0.0</td>\n",
       "      <td>Up</td>\n",
       "      <td>0</td>\n",
       "    </tr>\n",
       "    <tr>\n",
       "      <th>5</th>\n",
       "      <td>39</td>\n",
       "      <td>M</td>\n",
       "      <td>NAP</td>\n",
       "      <td>120</td>\n",
       "      <td>339</td>\n",
       "      <td>0</td>\n",
       "      <td>Normal</td>\n",
       "      <td>170</td>\n",
       "      <td>N</td>\n",
       "      <td>0.0</td>\n",
       "      <td>Up</td>\n",
       "      <td>0</td>\n",
       "    </tr>\n",
       "    <tr>\n",
       "      <th>6</th>\n",
       "      <td>45</td>\n",
       "      <td>F</td>\n",
       "      <td>ATA</td>\n",
       "      <td>130</td>\n",
       "      <td>237</td>\n",
       "      <td>0</td>\n",
       "      <td>Normal</td>\n",
       "      <td>170</td>\n",
       "      <td>N</td>\n",
       "      <td>0.0</td>\n",
       "      <td>Up</td>\n",
       "      <td>0</td>\n",
       "    </tr>\n",
       "    <tr>\n",
       "      <th>7</th>\n",
       "      <td>54</td>\n",
       "      <td>M</td>\n",
       "      <td>ATA</td>\n",
       "      <td>110</td>\n",
       "      <td>208</td>\n",
       "      <td>0</td>\n",
       "      <td>Normal</td>\n",
       "      <td>142</td>\n",
       "      <td>N</td>\n",
       "      <td>0.0</td>\n",
       "      <td>Up</td>\n",
       "      <td>0</td>\n",
       "    </tr>\n",
       "    <tr>\n",
       "      <th>8</th>\n",
       "      <td>37</td>\n",
       "      <td>M</td>\n",
       "      <td>ASY</td>\n",
       "      <td>140</td>\n",
       "      <td>207</td>\n",
       "      <td>0</td>\n",
       "      <td>Normal</td>\n",
       "      <td>130</td>\n",
       "      <td>Y</td>\n",
       "      <td>1.5</td>\n",
       "      <td>Flat</td>\n",
       "      <td>1</td>\n",
       "    </tr>\n",
       "    <tr>\n",
       "      <th>9</th>\n",
       "      <td>48</td>\n",
       "      <td>F</td>\n",
       "      <td>ATA</td>\n",
       "      <td>120</td>\n",
       "      <td>284</td>\n",
       "      <td>0</td>\n",
       "      <td>Normal</td>\n",
       "      <td>120</td>\n",
       "      <td>N</td>\n",
       "      <td>0.0</td>\n",
       "      <td>Up</td>\n",
       "      <td>0</td>\n",
       "    </tr>\n",
       "  </tbody>\n",
       "</table>\n",
       "</div>"
      ],
      "text/plain": [
       "   Age Sex ChestPainType  RestingBP  Cholesterol  FastingBS RestingECG  MaxHR  \\\n",
       "0   40   M           ATA        140          289          0     Normal    172   \n",
       "1   49   F           NAP        160          180          0     Normal    156   \n",
       "2   37   M           ATA        130          283          0         ST     98   \n",
       "3   48   F           ASY        138          214          0     Normal    108   \n",
       "4   54   M           NAP        150          195          0     Normal    122   \n",
       "5   39   M           NAP        120          339          0     Normal    170   \n",
       "6   45   F           ATA        130          237          0     Normal    170   \n",
       "7   54   M           ATA        110          208          0     Normal    142   \n",
       "8   37   M           ASY        140          207          0     Normal    130   \n",
       "9   48   F           ATA        120          284          0     Normal    120   \n",
       "\n",
       "  ExerciseAngina  Oldpeak ST_Slope  HeartDisease  \n",
       "0              N      0.0       Up             0  \n",
       "1              N      1.0     Flat             1  \n",
       "2              N      0.0       Up             0  \n",
       "3              Y      1.5     Flat             1  \n",
       "4              N      0.0       Up             0  \n",
       "5              N      0.0       Up             0  \n",
       "6              N      0.0       Up             0  \n",
       "7              N      0.0       Up             0  \n",
       "8              Y      1.5     Flat             1  \n",
       "9              N      0.0       Up             0  "
      ]
     },
     "execution_count": 2,
     "metadata": {},
     "output_type": "execute_result"
    }
   ],
   "source": [
    "df = pd.read_csv(r\"c:\\Users\\USER\\Desktop\\MyDatasets\\heart.csv\")\n",
    "df.head(10)"
   ]
  },
  {
   "cell_type": "markdown",
   "id": "914bbd10",
   "metadata": {},
   "source": [
    "# Preparing the data.\n",
    "1. First we replace categorical data with numeric values"
   ]
  },
  {
   "cell_type": "code",
   "execution_count": 3,
   "id": "96abd100",
   "metadata": {},
   "outputs": [
    {
     "data": {
      "text/html": [
       "<div>\n",
       "<style scoped>\n",
       "    .dataframe tbody tr th:only-of-type {\n",
       "        vertical-align: middle;\n",
       "    }\n",
       "\n",
       "    .dataframe tbody tr th {\n",
       "        vertical-align: top;\n",
       "    }\n",
       "\n",
       "    .dataframe thead th {\n",
       "        text-align: right;\n",
       "    }\n",
       "</style>\n",
       "<table border=\"1\" class=\"dataframe\">\n",
       "  <thead>\n",
       "    <tr style=\"text-align: right;\">\n",
       "      <th></th>\n",
       "      <th>Age</th>\n",
       "      <th>Sex</th>\n",
       "      <th>ChestPainType</th>\n",
       "      <th>RestingBP</th>\n",
       "      <th>Cholesterol</th>\n",
       "      <th>FastingBS</th>\n",
       "      <th>RestingECG</th>\n",
       "      <th>MaxHR</th>\n",
       "      <th>ExerciseAngina</th>\n",
       "      <th>Oldpeak</th>\n",
       "      <th>ST_Slope</th>\n",
       "      <th>HeartDisease</th>\n",
       "    </tr>\n",
       "  </thead>\n",
       "  <tbody>\n",
       "    <tr>\n",
       "      <th>0</th>\n",
       "      <td>40</td>\n",
       "      <td>1</td>\n",
       "      <td>0</td>\n",
       "      <td>140</td>\n",
       "      <td>289</td>\n",
       "      <td>0</td>\n",
       "      <td>0</td>\n",
       "      <td>172</td>\n",
       "      <td>0</td>\n",
       "      <td>0.0</td>\n",
       "      <td>0</td>\n",
       "      <td>0</td>\n",
       "    </tr>\n",
       "    <tr>\n",
       "      <th>1</th>\n",
       "      <td>49</td>\n",
       "      <td>0</td>\n",
       "      <td>1</td>\n",
       "      <td>160</td>\n",
       "      <td>180</td>\n",
       "      <td>0</td>\n",
       "      <td>0</td>\n",
       "      <td>156</td>\n",
       "      <td>0</td>\n",
       "      <td>1.0</td>\n",
       "      <td>1</td>\n",
       "      <td>1</td>\n",
       "    </tr>\n",
       "    <tr>\n",
       "      <th>2</th>\n",
       "      <td>37</td>\n",
       "      <td>1</td>\n",
       "      <td>0</td>\n",
       "      <td>130</td>\n",
       "      <td>283</td>\n",
       "      <td>0</td>\n",
       "      <td>1</td>\n",
       "      <td>98</td>\n",
       "      <td>0</td>\n",
       "      <td>0.0</td>\n",
       "      <td>0</td>\n",
       "      <td>0</td>\n",
       "    </tr>\n",
       "    <tr>\n",
       "      <th>3</th>\n",
       "      <td>48</td>\n",
       "      <td>0</td>\n",
       "      <td>2</td>\n",
       "      <td>138</td>\n",
       "      <td>214</td>\n",
       "      <td>0</td>\n",
       "      <td>0</td>\n",
       "      <td>108</td>\n",
       "      <td>1</td>\n",
       "      <td>1.5</td>\n",
       "      <td>1</td>\n",
       "      <td>1</td>\n",
       "    </tr>\n",
       "    <tr>\n",
       "      <th>4</th>\n",
       "      <td>54</td>\n",
       "      <td>1</td>\n",
       "      <td>1</td>\n",
       "      <td>150</td>\n",
       "      <td>195</td>\n",
       "      <td>0</td>\n",
       "      <td>0</td>\n",
       "      <td>122</td>\n",
       "      <td>0</td>\n",
       "      <td>0.0</td>\n",
       "      <td>0</td>\n",
       "      <td>0</td>\n",
       "    </tr>\n",
       "    <tr>\n",
       "      <th>5</th>\n",
       "      <td>39</td>\n",
       "      <td>1</td>\n",
       "      <td>1</td>\n",
       "      <td>120</td>\n",
       "      <td>339</td>\n",
       "      <td>0</td>\n",
       "      <td>0</td>\n",
       "      <td>170</td>\n",
       "      <td>0</td>\n",
       "      <td>0.0</td>\n",
       "      <td>0</td>\n",
       "      <td>0</td>\n",
       "    </tr>\n",
       "    <tr>\n",
       "      <th>6</th>\n",
       "      <td>45</td>\n",
       "      <td>0</td>\n",
       "      <td>0</td>\n",
       "      <td>130</td>\n",
       "      <td>237</td>\n",
       "      <td>0</td>\n",
       "      <td>0</td>\n",
       "      <td>170</td>\n",
       "      <td>0</td>\n",
       "      <td>0.0</td>\n",
       "      <td>0</td>\n",
       "      <td>0</td>\n",
       "    </tr>\n",
       "    <tr>\n",
       "      <th>7</th>\n",
       "      <td>54</td>\n",
       "      <td>1</td>\n",
       "      <td>0</td>\n",
       "      <td>110</td>\n",
       "      <td>208</td>\n",
       "      <td>0</td>\n",
       "      <td>0</td>\n",
       "      <td>142</td>\n",
       "      <td>0</td>\n",
       "      <td>0.0</td>\n",
       "      <td>0</td>\n",
       "      <td>0</td>\n",
       "    </tr>\n",
       "    <tr>\n",
       "      <th>8</th>\n",
       "      <td>37</td>\n",
       "      <td>1</td>\n",
       "      <td>2</td>\n",
       "      <td>140</td>\n",
       "      <td>207</td>\n",
       "      <td>0</td>\n",
       "      <td>0</td>\n",
       "      <td>130</td>\n",
       "      <td>1</td>\n",
       "      <td>1.5</td>\n",
       "      <td>1</td>\n",
       "      <td>1</td>\n",
       "    </tr>\n",
       "    <tr>\n",
       "      <th>9</th>\n",
       "      <td>48</td>\n",
       "      <td>0</td>\n",
       "      <td>0</td>\n",
       "      <td>120</td>\n",
       "      <td>284</td>\n",
       "      <td>0</td>\n",
       "      <td>0</td>\n",
       "      <td>120</td>\n",
       "      <td>0</td>\n",
       "      <td>0.0</td>\n",
       "      <td>0</td>\n",
       "      <td>0</td>\n",
       "    </tr>\n",
       "  </tbody>\n",
       "</table>\n",
       "</div>"
      ],
      "text/plain": [
       "   Age  Sex  ChestPainType  RestingBP  Cholesterol  FastingBS  RestingECG  \\\n",
       "0   40    1              0        140          289          0           0   \n",
       "1   49    0              1        160          180          0           0   \n",
       "2   37    1              0        130          283          0           1   \n",
       "3   48    0              2        138          214          0           0   \n",
       "4   54    1              1        150          195          0           0   \n",
       "5   39    1              1        120          339          0           0   \n",
       "6   45    0              0        130          237          0           0   \n",
       "7   54    1              0        110          208          0           0   \n",
       "8   37    1              2        140          207          0           0   \n",
       "9   48    0              0        120          284          0           0   \n",
       "\n",
       "   MaxHR  ExerciseAngina  Oldpeak  ST_Slope  HeartDisease  \n",
       "0    172               0      0.0         0             0  \n",
       "1    156               0      1.0         1             1  \n",
       "2     98               0      0.0         0             0  \n",
       "3    108               1      1.5         1             1  \n",
       "4    122               0      0.0         0             0  \n",
       "5    170               0      0.0         0             0  \n",
       "6    170               0      0.0         0             0  \n",
       "7    142               0      0.0         0             0  \n",
       "8    130               1      1.5         1             1  \n",
       "9    120               0      0.0         0             0  "
      ]
     },
     "execution_count": 3,
     "metadata": {},
     "output_type": "execute_result"
    }
   ],
   "source": [
    "df.Sex.replace(['F', 'M'], [0, 1], inplace=True)\n",
    "df.ChestPainType.replace(['ATA', 'NAP', 'ASY', 'TA'], [0, 1, 2, 3], inplace=True)\n",
    "df.RestingECG.replace(['Normal', 'ST', 'LVH'], [0, 1, 2], inplace=True)\n",
    "df.ExerciseAngina.replace(['N', 'Y'], [0, 1], inplace=True)\n",
    "df.ST_Slope.replace(['Up', 'Flat', 'Down'], [0, 1, 2], inplace=True)\n",
    "df.head(10)"
   ]
  },
  {
   "cell_type": "markdown",
   "id": "7a7417d0",
   "metadata": {},
   "source": [
    "2. We convert the dataframe to a numpy array **and** split the dataset into train and test segments "
   ]
  },
  {
   "cell_type": "code",
   "execution_count": 4,
   "id": "ad611427",
   "metadata": {},
   "outputs": [],
   "source": [
    "data = df.to_numpy()\n",
    "\n",
    "X = data[:, :11]\n",
    "Y = data[:, 11]\n",
    "\n",
    "X_train, X_test, Y_train, Y_test = tts(X, Y, test_size=0.2, random_state=1, shuffle=True)"
   ]
  },
  {
   "cell_type": "markdown",
   "id": "bf0ae20d",
   "metadata": {},
   "source": [
    "3. We scale our data, as most machine learning models do better when the input data is scaled or normalised."
   ]
  },
  {
   "cell_type": "code",
   "execution_count": 5,
   "id": "be2b46f6",
   "metadata": {},
   "outputs": [],
   "source": [
    "sc = StandardScaler()\n",
    "X_train_scaled = sc.fit_transform(X_train)\n",
    "X_test_scaled = sc.transform(X_test)"
   ]
  },
  {
   "cell_type": "markdown",
   "id": "a0b86acd",
   "metadata": {},
   "source": [
    "I'll be using the sklearn library for the most part of the classification."
   ]
  },
  {
   "cell_type": "markdown",
   "id": "f3c226e9",
   "metadata": {},
   "source": [
    "# Sci-kit learn \n",
    "### Decision Tree Classifier"
   ]
  },
  {
   "cell_type": "code",
   "execution_count": 6,
   "id": "20007c73",
   "metadata": {},
   "outputs": [
    {
     "name": "stdout",
     "output_type": "stream",
     "text": [
      "Accuracy of model: 78%\n"
     ]
    }
   ],
   "source": [
    "from sklearn.tree import DecisionTreeClassifier\n",
    "\n",
    "clf = DecisionTreeClassifier(random_state=1)\n",
    "clf.fit(X_train_scaled, Y_train)\n",
    "\n",
    "accuracy = round(((clf.score(X_test_scaled, Y_test)) * 100 ))\n",
    "print(f'Accuracy of model: {accuracy}%')"
   ]
  },
  {
   "cell_type": "markdown",
   "id": "d6e90eed",
   "metadata": {},
   "source": [
    "### Let's try something cheeky with the K-Fold cross_validation\n",
    "Perhaps we could improve the accuracy of the DecisionTreeClassifier"
   ]
  },
  {
   "cell_type": "code",
   "execution_count": 7,
   "id": "488a6da1",
   "metadata": {},
   "outputs": [
    {
     "name": "stdout",
     "output_type": "stream",
     "text": [
      "Accuracy of model: 79%\n"
     ]
    }
   ],
   "source": [
    "from sklearn.model_selection import cross_val_score\n",
    "clf = DecisionTreeClassifier(random_state=1)\n",
    "cv_scores = cross_val_score(clf, X, Y, cv=26)\n",
    "accuracy = round((cv_scores.mean()) * 100)\n",
    "print(f'Accuracy of model: {accuracy}%')"
   ]
  },
  {
   "cell_type": "markdown",
   "id": "0b98a691",
   "metadata": {},
   "source": [
    "A little improvement. \n",
    "Generally, basic decision tree isn't so much of an efficient model choice."
   ]
  },
  {
   "cell_type": "markdown",
   "id": "93c6cecc",
   "metadata": {},
   "source": [
    "### RandomForestClassifier"
   ]
  },
  {
   "cell_type": "code",
   "execution_count": 8,
   "id": "7a8b0790",
   "metadata": {},
   "outputs": [
    {
     "name": "stdout",
     "output_type": "stream",
     "text": [
      "Accuracy of model: 90%\n"
     ]
    }
   ],
   "source": [
    "from sklearn.ensemble import RandomForestClassifier\n",
    "\n",
    "clf = RandomForestClassifier(n_estimators=35, random_state=1)\n",
    "clf.fit(X_train_scaled, Y_train)\n",
    "accuracy = round((clf.score(X_test_scaled, Y_test) * 100))\n",
    "print(f'Accuracy of model: {accuracy}%')"
   ]
  },
  {
   "cell_type": "markdown",
   "id": "94d5fe1b",
   "metadata": {},
   "source": [
    "***Wow***!!! what a jump. 11% improvement on accuracy.\n",
    "\n",
    "Now we could go ahead and use the K-Fold cross validation; there might be room for  more improvement."
   ]
  },
  {
   "cell_type": "markdown",
   "id": "c633bfa6",
   "metadata": {},
   "source": [
    "### SVM"
   ]
  },
  {
   "cell_type": "code",
   "execution_count": 9,
   "id": "cd90fd9d",
   "metadata": {},
   "outputs": [
    {
     "name": "stdout",
     "output_type": "stream",
     "text": [
      "Accuracy of model: 91%\n"
     ]
    }
   ],
   "source": [
    "from sklearn import svm\n",
    "svc = svm.SVC(kernel='rbf', C=1.0)\n",
    "svc.fit(X_train_scaled, Y_train)\n",
    "accuracy = round((svc.score(X_test_scaled, Y_test))*100)\n",
    "print(f'Accuracy of model: {accuracy}%')"
   ]
  },
  {
   "cell_type": "markdown",
   "id": "0c2a4d50",
   "metadata": {},
   "source": [
    "The SVM model has upped accuracy by 1%, impressive."
   ]
  },
  {
   "cell_type": "markdown",
   "id": "f246c4df",
   "metadata": {},
   "source": [
    "### KNN (K-Nearest Neighbours)"
   ]
  },
  {
   "cell_type": "code",
   "execution_count": 10,
   "id": "983c29b9",
   "metadata": {},
   "outputs": [
    {
     "name": "stdout",
     "output_type": "stream",
     "text": [
      "Accuracy of model: 91%\n"
     ]
    }
   ],
   "source": [
    "from sklearn import neighbors\n",
    "\n",
    "clf = neighbors.KNeighborsClassifier(n_neighbors=10)\n",
    "clf.fit(X_train_scaled, Y_train)\n",
    "accuracy = round((svc.score(X_test_scaled, Y_test)) * 100)\n",
    "print(f'Accuracy of model: {accuracy}%')"
   ]
  },
  {
   "cell_type": "markdown",
   "id": "63e8e36c",
   "metadata": {},
   "source": [
    "When working with **KNNs**, choosing the K value is a bit tricky, so it's best to create a loop that train the model over different values of K. <br>\n",
    "Then we can go ahead to  select the K value with the highest accuracy."
   ]
  },
  {
   "cell_type": "code",
   "execution_count": 11,
   "id": "2ea1556c",
   "metadata": {},
   "outputs": [
    {
     "name": "stdout",
     "output_type": "stream",
     "text": [
      "Accuracy of model using K value of 1: 91%\n",
      "Accuracy of model using K value of 2: 91%\n",
      "Accuracy of model using K value of 3: 91%\n",
      "Accuracy of model using K value of 4: 91%\n",
      "Accuracy of model using K value of 5: 91%\n",
      "Accuracy of model using K value of 6: 91%\n",
      "Accuracy of model using K value of 7: 91%\n",
      "Accuracy of model using K value of 8: 91%\n",
      "Accuracy of model using K value of 9: 91%\n",
      "Accuracy of model using K value of 10: 91%\n",
      "Accuracy of model using K value of 11: 91%\n",
      "Accuracy of model using K value of 12: 91%\n",
      "Accuracy of model using K value of 13: 91%\n",
      "Accuracy of model using K value of 14: 91%\n",
      "Accuracy of model using K value of 15: 91%\n",
      "Accuracy of model using K value of 16: 91%\n",
      "Accuracy of model using K value of 17: 91%\n",
      "Accuracy of model using K value of 18: 91%\n",
      "Accuracy of model using K value of 19: 91%\n",
      "Accuracy of model using K value of 20: 91%\n",
      "Accuracy of model using K value of 21: 91%\n",
      "Accuracy of model using K value of 22: 91%\n",
      "Accuracy of model using K value of 23: 91%\n",
      "Accuracy of model using K value of 24: 91%\n",
      "Accuracy of model using K value of 25: 91%\n",
      "Accuracy of model using K value of 26: 91%\n",
      "Accuracy of model using K value of 27: 91%\n",
      "Accuracy of model using K value of 28: 91%\n",
      "Accuracy of model using K value of 29: 91%\n",
      "Accuracy of model using K value of 30: 91%\n",
      "Accuracy of model using K value of 31: 91%\n",
      "Accuracy of model using K value of 32: 91%\n",
      "Accuracy of model using K value of 33: 91%\n",
      "Accuracy of model using K value of 34: 91%\n",
      "Accuracy of model using K value of 35: 91%\n",
      "Accuracy of model using K value of 36: 91%\n",
      "Accuracy of model using K value of 37: 91%\n",
      "Accuracy of model using K value of 38: 91%\n",
      "Accuracy of model using K value of 39: 91%\n",
      "Accuracy of model using K value of 40: 91%\n",
      "Accuracy of model using K value of 41: 91%\n",
      "Accuracy of model using K value of 42: 91%\n",
      "Accuracy of model using K value of 43: 91%\n",
      "Accuracy of model using K value of 44: 91%\n",
      "Accuracy of model using K value of 45: 91%\n",
      "Accuracy of model using K value of 46: 91%\n",
      "Accuracy of model using K value of 47: 91%\n",
      "Accuracy of model using K value of 48: 91%\n",
      "Accuracy of model using K value of 49: 91%\n",
      "Accuracy of model using K value of 50: 91%\n"
     ]
    }
   ],
   "source": [
    "for i in range(1, 51):\n",
    "    clf = neighbors.KNeighborsClassifier(n_neighbors=i)\n",
    "    clf.fit(X_train_scaled, Y_train)\n",
    "    accuracy = round((svc.score(X_test_scaled, Y_test))*100)\n",
    "    print(f'Accuracy of model using K value of {i}: {accuracy}%')"
   ]
  },
  {
   "cell_type": "markdown",
   "id": "4173e62a",
   "metadata": {},
   "source": [
    "Apparently, K values doesn't affect the model performance. But this is doesn't happen too often."
   ]
  },
  {
   "cell_type": "markdown",
   "id": "9f414ba5",
   "metadata": {},
   "source": [
    "### Naive Bayes\n",
    "It's important to note that doesn't take negative feature values, as regarding our earlier scaled features. <br>\n",
    "So we'll have to use the MinMaxScaler instead of the StandardScaler"
   ]
  },
  {
   "cell_type": "code",
   "execution_count": 12,
   "id": "ab36846e",
   "metadata": {},
   "outputs": [
    {
     "name": "stdout",
     "output_type": "stream",
     "text": [
      "Accuracy of the model: 89%\n"
     ]
    }
   ],
   "source": [
    "from sklearn.naive_bayes import MultinomialNB\n",
    "from sklearn.preprocessing import MinMaxScaler\n",
    "\n",
    "# scale the input features\n",
    "scaler = MinMaxScaler()\n",
    "X_train_minmax = scaler.fit_transform(X_train)\n",
    "X_test_minmax = scaler.transform(X_test)\n",
    "\n",
    "# define the classifier\n",
    "clf = MultinomialNB()\n",
    "clf.fit(X_train_minmax, Y_train)\n",
    "accuracy = round((clf.score(X_test_minmax, Y_test)) * 100)\n",
    "print(f'Accuracy of the model: {accuracy}%')"
   ]
  },
  {
   "cell_type": "markdown",
   "id": "457c98e3",
   "metadata": {},
   "source": [
    "Naive Bayes is 2 points back from the accuracy score to beat. <br>\n",
    "But the NB model did alright."
   ]
  },
  {
   "cell_type": "markdown",
   "id": "bfb7480f",
   "metadata": {},
   "source": [
    "### LogisticRegression\n",
    "We've seen the performance of all these fancy models.<br>\n",
    "But this is a basic binary classification so, let's try the LogisticRegression model which is a rather simpler approach to this type of classification"
   ]
  },
  {
   "cell_type": "code",
   "execution_count": 38,
   "id": "8476b1d2",
   "metadata": {},
   "outputs": [
    {
     "name": "stdout",
     "output_type": "stream",
     "text": [
      "Accuracy of the model: 88%\n"
     ]
    }
   ],
   "source": [
    "from sklearn.linear_model import LogisticRegression\n",
    "\n",
    "clf = LogisticRegression()\n",
    "clf.fit(X_train_scaled, Y_train)\n",
    "accuracy = round((clf.score(X_test_scaled, Y_test))*100)\n",
    "print(f'Accuracy of the model: {accuracy}%')"
   ]
  },
  {
   "cell_type": "markdown",
   "id": "241b86ac",
   "metadata": {},
   "source": [
    "## Neural Networks\n",
    "We'll use two deep learning frameworks for this part\n",
    "### Tensorflow and Pytorch\n"
   ]
  },
  {
   "cell_type": "markdown",
   "id": "7467f036",
   "metadata": {},
   "source": [
    "# Tensorflow(Keras)"
   ]
  },
  {
   "cell_type": "code",
   "execution_count": 14,
   "id": "17afac60",
   "metadata": {},
   "outputs": [],
   "source": [
    "from tensorflow import keras\n",
    "from tensorflow.keras.models import Sequential\n",
    "from tensorflow.keras.layers import Dropout, Dense\n",
    "from tensorflow.keras.optimizers import RMSprop"
   ]
  },
  {
   "cell_type": "code",
   "execution_count": 15,
   "id": "710f4dbf",
   "metadata": {},
   "outputs": [
    {
     "name": "stdout",
     "output_type": "stream",
     "text": [
      "Model: \"sequential\"\n",
      "_________________________________________________________________\n",
      "Layer (type)                 Output Shape              Param #   \n",
      "=================================================================\n",
      "dense (Dense)                (None, 29)                348       \n",
      "_________________________________________________________________\n",
      "dropout (Dropout)            (None, 29)                0         \n",
      "_________________________________________________________________\n",
      "dense_1 (Dense)              (None, 1)                 30        \n",
      "=================================================================\n",
      "Total params: 378\n",
      "Trainable params: 378\n",
      "Non-trainable params: 0\n",
      "_________________________________________________________________\n"
     ]
    }
   ],
   "source": [
    "model = Sequential()\n",
    "model.add(Dense(29, activation='relu', input_shape=(11,)))\n",
    "model.add(Dropout(0.3))\n",
    "model.add(Dense(1, activation='sigmoid'))\n",
    "model.summary()"
   ]
  },
  {
   "cell_type": "code",
   "execution_count": 16,
   "id": "f2fed259",
   "metadata": {},
   "outputs": [],
   "source": [
    "model.compile(loss='categorical_crossentropy', \n",
    "                         optimizer=RMSprop(), \n",
    "                         metrics=['accuracy'])"
   ]
  },
  {
   "cell_type": "code",
   "execution_count": 18,
   "id": "459f5887",
   "metadata": {},
   "outputs": [
    {
     "name": "stdout",
     "output_type": "stream",
     "text": [
      "Epoch 1/30\n",
      "184/184 - 0s - loss: 6.4639e-08 - accuracy: 0.4060 - val_loss: 7.1266e-08 - val_accuracy: 0.4022\n",
      "Epoch 2/30\n",
      "184/184 - 0s - loss: 6.4639e-08 - accuracy: 0.3774 - val_loss: 7.1266e-08 - val_accuracy: 0.4022\n",
      "Epoch 3/30\n",
      "184/184 - 0s - loss: 6.4639e-08 - accuracy: 0.3801 - val_loss: 7.1266e-08 - val_accuracy: 0.4022\n",
      "Epoch 4/30\n",
      "184/184 - 0s - loss: 6.4639e-08 - accuracy: 0.3856 - val_loss: 7.1266e-08 - val_accuracy: 0.4022\n",
      "Epoch 5/30\n",
      "184/184 - 0s - loss: 6.4639e-08 - accuracy: 0.3638 - val_loss: 7.1266e-08 - val_accuracy: 0.4022\n",
      "Epoch 6/30\n",
      "184/184 - 0s - loss: 6.4639e-08 - accuracy: 0.3924 - val_loss: 7.1266e-08 - val_accuracy: 0.4022\n",
      "Epoch 7/30\n",
      "184/184 - 0s - loss: 6.4639e-08 - accuracy: 0.3638 - val_loss: 7.1266e-08 - val_accuracy: 0.4022\n",
      "Epoch 8/30\n",
      "184/184 - 0s - loss: 6.4639e-08 - accuracy: 0.3787 - val_loss: 7.1266e-08 - val_accuracy: 0.4022\n",
      "Epoch 9/30\n",
      "184/184 - 0s - loss: 6.4639e-08 - accuracy: 0.3842 - val_loss: 7.1266e-08 - val_accuracy: 0.4022\n",
      "Epoch 10/30\n",
      "184/184 - 0s - loss: 6.4639e-08 - accuracy: 0.3760 - val_loss: 7.1266e-08 - val_accuracy: 0.4022\n",
      "Epoch 11/30\n",
      "184/184 - 0s - loss: 6.4639e-08 - accuracy: 0.3651 - val_loss: 7.1266e-08 - val_accuracy: 0.4022\n",
      "Epoch 12/30\n",
      "184/184 - 0s - loss: 6.4639e-08 - accuracy: 0.3924 - val_loss: 7.1266e-08 - val_accuracy: 0.4022\n",
      "Epoch 13/30\n",
      "184/184 - 0s - loss: 6.4639e-08 - accuracy: 0.3896 - val_loss: 7.1266e-08 - val_accuracy: 0.4022\n",
      "Epoch 14/30\n",
      "184/184 - 0s - loss: 6.4639e-08 - accuracy: 0.3787 - val_loss: 7.1266e-08 - val_accuracy: 0.4022\n",
      "Epoch 15/30\n",
      "184/184 - 0s - loss: 6.4639e-08 - accuracy: 0.4074 - val_loss: 7.1266e-08 - val_accuracy: 0.4022\n",
      "Epoch 16/30\n",
      "184/184 - 0s - loss: 6.4639e-08 - accuracy: 0.3856 - val_loss: 7.1266e-08 - val_accuracy: 0.4022\n",
      "Epoch 17/30\n",
      "184/184 - 0s - loss: 6.4639e-08 - accuracy: 0.3896 - val_loss: 7.1266e-08 - val_accuracy: 0.4022\n",
      "Epoch 18/30\n",
      "184/184 - 0s - loss: 6.4639e-08 - accuracy: 0.3883 - val_loss: 7.1266e-08 - val_accuracy: 0.4022\n",
      "Epoch 19/30\n",
      "184/184 - 0s - loss: 6.4639e-08 - accuracy: 0.3665 - val_loss: 7.1266e-08 - val_accuracy: 0.4022\n",
      "Epoch 20/30\n",
      "184/184 - 0s - loss: 6.4639e-08 - accuracy: 0.3951 - val_loss: 7.1266e-08 - val_accuracy: 0.4022\n",
      "Epoch 21/30\n",
      "184/184 - 0s - loss: 6.4639e-08 - accuracy: 0.3692 - val_loss: 7.1266e-08 - val_accuracy: 0.4022\n",
      "Epoch 22/30\n",
      "184/184 - 0s - loss: 6.4639e-08 - accuracy: 0.4142 - val_loss: 7.1266e-08 - val_accuracy: 0.4022\n",
      "Epoch 23/30\n",
      "184/184 - 0s - loss: 6.4639e-08 - accuracy: 0.3638 - val_loss: 7.1266e-08 - val_accuracy: 0.4022\n",
      "Epoch 24/30\n",
      "184/184 - 0s - loss: 6.4639e-08 - accuracy: 0.3638 - val_loss: 7.1266e-08 - val_accuracy: 0.4022\n",
      "Epoch 25/30\n",
      "184/184 - 0s - loss: 6.4639e-08 - accuracy: 0.3801 - val_loss: 7.1266e-08 - val_accuracy: 0.4022\n",
      "Epoch 26/30\n",
      "184/184 - 0s - loss: 6.4639e-08 - accuracy: 0.3869 - val_loss: 7.1266e-08 - val_accuracy: 0.4022\n",
      "Epoch 27/30\n",
      "184/184 - 0s - loss: 6.4639e-08 - accuracy: 0.4033 - val_loss: 7.1266e-08 - val_accuracy: 0.4022\n",
      "Epoch 28/30\n",
      "184/184 - 0s - loss: 6.4639e-08 - accuracy: 0.3924 - val_loss: 7.1266e-08 - val_accuracy: 0.4022\n",
      "Epoch 29/30\n",
      "184/184 - 0s - loss: 6.4639e-08 - accuracy: 0.3678 - val_loss: 7.1266e-08 - val_accuracy: 0.4022\n",
      "Epoch 30/30\n",
      "184/184 - 0s - loss: 6.4639e-08 - accuracy: 0.3815 - val_loss: 7.1266e-08 - val_accuracy: 0.4022\n"
     ]
    }
   ],
   "source": [
    "history = model.fit(X_train_scaled, Y_train,\n",
    "               batch_size=4,\n",
    "               epochs=30,\n",
    "               verbose=2,\n",
    "               validation_data=(X_test_scaled, Y_test))"
   ]
  },
  {
   "cell_type": "markdown",
   "id": "c7a58d06",
   "metadata": {},
   "source": [
    "# Pytorch"
   ]
  },
  {
   "cell_type": "code",
   "execution_count": 24,
   "id": "d91834da",
   "metadata": {},
   "outputs": [],
   "source": [
    "import torch\n",
    "import torch.nn as nn\n",
    "import torch.nn.functional as F"
   ]
  },
  {
   "cell_type": "code",
   "execution_count": 31,
   "id": "136ac0f8",
   "metadata": {},
   "outputs": [],
   "source": [
    "X_train_tensor = torch.from_numpy(X_train_scaled.astype(np.float32))\n",
    "Y_train_tensor = torch.from_numpy(Y_train.astype(np.float32))\n",
    "X_test_tensor = torch.from_numpy(X_test_scaled.astype(np.float32))\n",
    "Y_test_tensor = torch.from_numpy(Y_test.astype(np.float32))\n",
    "input_features = X_train_tensor.shape[1]\n",
    "learning_rate = 0.01"
   ]
  },
  {
   "cell_type": "code",
   "execution_count": 33,
   "id": "2f667162",
   "metadata": {},
   "outputs": [],
   "source": [
    "# Build the model --- fx = wx + b, sigmoid at the end.\n",
    "class Model(nn.Module):\n",
    "    def __init__(self, input_features):\n",
    "        super(Model, self).__init__()\n",
    "        self.l1 = nn.Linear(input_features, 29)\n",
    "        self.l_relu = nn.LeakyReLU()\n",
    "        self.l2 = nn.Linear(29, 1)\n",
    "    def forward(self, x):\n",
    "        out = self.l1(x)\n",
    "        out = self.l_relu(out)\n",
    "        out = self.l2(out)\n",
    "        out = torch.sigmoid(out)\n",
    "        return out\n",
    "\n",
    "model = Model(input_features)\n",
    "criterion = nn.BCELoss()\n",
    "optimizer = torch.optim.SGD(model.parameters(), lr=learning_rate)"
   ]
  },
  {
   "cell_type": "code",
   "execution_count": 36,
   "id": "9ce5bf0d",
   "metadata": {},
   "outputs": [
    {
     "ename": "ValueError",
     "evalue": "Using a target size (torch.Size([734])) that is different to the input size (torch.Size([734, 1])) is deprecated. Please ensure they have the same size.",
     "output_type": "error",
     "traceback": [
      "\u001b[1;31m---------------------------------------------------------------------------\u001b[0m",
      "\u001b[1;31mValueError\u001b[0m                                Traceback (most recent call last)",
      "\u001b[1;32m<ipython-input-36-43a4744c3875>\u001b[0m in \u001b[0;36m<module>\u001b[1;34m\u001b[0m\n\u001b[0;32m      4\u001b[0m     \u001b[1;31m# forward pass and computing loss\u001b[0m\u001b[1;33m\u001b[0m\u001b[1;33m\u001b[0m\u001b[1;33m\u001b[0m\u001b[0m\n\u001b[0;32m      5\u001b[0m     \u001b[0mpred\u001b[0m \u001b[1;33m=\u001b[0m \u001b[0mmodel\u001b[0m\u001b[1;33m(\u001b[0m\u001b[0mX_train_tensor\u001b[0m\u001b[1;33m)\u001b[0m\u001b[1;33m\u001b[0m\u001b[1;33m\u001b[0m\u001b[0m\n\u001b[1;32m----> 6\u001b[1;33m     \u001b[0mloss\u001b[0m \u001b[1;33m=\u001b[0m \u001b[0mcriterion\u001b[0m\u001b[1;33m(\u001b[0m\u001b[0mpred\u001b[0m\u001b[1;33m,\u001b[0m \u001b[0mY_train_tensor\u001b[0m\u001b[1;33m)\u001b[0m\u001b[1;33m\u001b[0m\u001b[1;33m\u001b[0m\u001b[0m\n\u001b[0m\u001b[0;32m      7\u001b[0m     \u001b[0mprint\u001b[0m\u001b[1;33m(\u001b[0m\u001b[0mloss\u001b[0m\u001b[1;33m)\u001b[0m\u001b[1;33m\u001b[0m\u001b[1;33m\u001b[0m\u001b[0m\n\u001b[0;32m      8\u001b[0m \u001b[1;33m\u001b[0m\u001b[0m\n",
      "\u001b[1;32m~\\anaconda3\\lib\\site-packages\\torch\\nn\\modules\\module.py\u001b[0m in \u001b[0;36m_call_impl\u001b[1;34m(self, *input, **kwargs)\u001b[0m\n\u001b[0;32m   1108\u001b[0m         if not (self._backward_hooks or self._forward_hooks or self._forward_pre_hooks or _global_backward_hooks\n\u001b[0;32m   1109\u001b[0m                 or _global_forward_hooks or _global_forward_pre_hooks):\n\u001b[1;32m-> 1110\u001b[1;33m             \u001b[1;32mreturn\u001b[0m \u001b[0mforward_call\u001b[0m\u001b[1;33m(\u001b[0m\u001b[1;33m*\u001b[0m\u001b[0minput\u001b[0m\u001b[1;33m,\u001b[0m \u001b[1;33m**\u001b[0m\u001b[0mkwargs\u001b[0m\u001b[1;33m)\u001b[0m\u001b[1;33m\u001b[0m\u001b[1;33m\u001b[0m\u001b[0m\n\u001b[0m\u001b[0;32m   1111\u001b[0m         \u001b[1;31m# Do not call functions when jit is used\u001b[0m\u001b[1;33m\u001b[0m\u001b[1;33m\u001b[0m\u001b[1;33m\u001b[0m\u001b[0m\n\u001b[0;32m   1112\u001b[0m         \u001b[0mfull_backward_hooks\u001b[0m\u001b[1;33m,\u001b[0m \u001b[0mnon_full_backward_hooks\u001b[0m \u001b[1;33m=\u001b[0m \u001b[1;33m[\u001b[0m\u001b[1;33m]\u001b[0m\u001b[1;33m,\u001b[0m \u001b[1;33m[\u001b[0m\u001b[1;33m]\u001b[0m\u001b[1;33m\u001b[0m\u001b[1;33m\u001b[0m\u001b[0m\n",
      "\u001b[1;32m~\\anaconda3\\lib\\site-packages\\torch\\nn\\modules\\loss.py\u001b[0m in \u001b[0;36mforward\u001b[1;34m(self, input, target)\u001b[0m\n\u001b[0;32m    610\u001b[0m \u001b[1;33m\u001b[0m\u001b[0m\n\u001b[0;32m    611\u001b[0m     \u001b[1;32mdef\u001b[0m \u001b[0mforward\u001b[0m\u001b[1;33m(\u001b[0m\u001b[0mself\u001b[0m\u001b[1;33m,\u001b[0m \u001b[0minput\u001b[0m\u001b[1;33m:\u001b[0m \u001b[0mTensor\u001b[0m\u001b[1;33m,\u001b[0m \u001b[0mtarget\u001b[0m\u001b[1;33m:\u001b[0m \u001b[0mTensor\u001b[0m\u001b[1;33m)\u001b[0m \u001b[1;33m->\u001b[0m \u001b[0mTensor\u001b[0m\u001b[1;33m:\u001b[0m\u001b[1;33m\u001b[0m\u001b[1;33m\u001b[0m\u001b[0m\n\u001b[1;32m--> 612\u001b[1;33m         \u001b[1;32mreturn\u001b[0m \u001b[0mF\u001b[0m\u001b[1;33m.\u001b[0m\u001b[0mbinary_cross_entropy\u001b[0m\u001b[1;33m(\u001b[0m\u001b[0minput\u001b[0m\u001b[1;33m,\u001b[0m \u001b[0mtarget\u001b[0m\u001b[1;33m,\u001b[0m \u001b[0mweight\u001b[0m\u001b[1;33m=\u001b[0m\u001b[0mself\u001b[0m\u001b[1;33m.\u001b[0m\u001b[0mweight\u001b[0m\u001b[1;33m,\u001b[0m \u001b[0mreduction\u001b[0m\u001b[1;33m=\u001b[0m\u001b[0mself\u001b[0m\u001b[1;33m.\u001b[0m\u001b[0mreduction\u001b[0m\u001b[1;33m)\u001b[0m\u001b[1;33m\u001b[0m\u001b[1;33m\u001b[0m\u001b[0m\n\u001b[0m\u001b[0;32m    613\u001b[0m \u001b[1;33m\u001b[0m\u001b[0m\n\u001b[0;32m    614\u001b[0m \u001b[1;33m\u001b[0m\u001b[0m\n",
      "\u001b[1;32m~\\anaconda3\\lib\\site-packages\\torch\\nn\\functional.py\u001b[0m in \u001b[0;36mbinary_cross_entropy\u001b[1;34m(input, target, weight, size_average, reduce, reduction)\u001b[0m\n\u001b[0;32m   3054\u001b[0m         \u001b[0mreduction_enum\u001b[0m \u001b[1;33m=\u001b[0m \u001b[0m_Reduction\u001b[0m\u001b[1;33m.\u001b[0m\u001b[0mget_enum\u001b[0m\u001b[1;33m(\u001b[0m\u001b[0mreduction\u001b[0m\u001b[1;33m)\u001b[0m\u001b[1;33m\u001b[0m\u001b[1;33m\u001b[0m\u001b[0m\n\u001b[0;32m   3055\u001b[0m     \u001b[1;32mif\u001b[0m \u001b[0mtarget\u001b[0m\u001b[1;33m.\u001b[0m\u001b[0msize\u001b[0m\u001b[1;33m(\u001b[0m\u001b[1;33m)\u001b[0m \u001b[1;33m!=\u001b[0m \u001b[0minput\u001b[0m\u001b[1;33m.\u001b[0m\u001b[0msize\u001b[0m\u001b[1;33m(\u001b[0m\u001b[1;33m)\u001b[0m\u001b[1;33m:\u001b[0m\u001b[1;33m\u001b[0m\u001b[1;33m\u001b[0m\u001b[0m\n\u001b[1;32m-> 3056\u001b[1;33m         raise ValueError(\n\u001b[0m\u001b[0;32m   3057\u001b[0m             \u001b[1;34m\"Using a target size ({}) that is different to the input size ({}) is deprecated. \"\u001b[0m\u001b[1;33m\u001b[0m\u001b[1;33m\u001b[0m\u001b[0m\n\u001b[0;32m   3058\u001b[0m             \u001b[1;34m\"Please ensure they have the same size.\"\u001b[0m\u001b[1;33m.\u001b[0m\u001b[0mformat\u001b[0m\u001b[1;33m(\u001b[0m\u001b[0mtarget\u001b[0m\u001b[1;33m.\u001b[0m\u001b[0msize\u001b[0m\u001b[1;33m(\u001b[0m\u001b[1;33m)\u001b[0m\u001b[1;33m,\u001b[0m \u001b[0minput\u001b[0m\u001b[1;33m.\u001b[0m\u001b[0msize\u001b[0m\u001b[1;33m(\u001b[0m\u001b[1;33m)\u001b[0m\u001b[1;33m)\u001b[0m\u001b[1;33m\u001b[0m\u001b[1;33m\u001b[0m\u001b[0m\n",
      "\u001b[1;31mValueError\u001b[0m: Using a target size (torch.Size([734])) that is different to the input size (torch.Size([734, 1])) is deprecated. Please ensure they have the same size."
     ]
    }
   ],
   "source": [
    "# training loop\n",
    "epochs = 25\n",
    "for epoch in range(epochs):\n",
    "    # forward pass and computing loss\n",
    "    pred = model(X_train_tensor)\n",
    "    loss = criterion(pred, Y_train_tensor)\n",
    "    \n",
    "    # empty gradients\n",
    "    optimizer.zero_grad()\n",
    "    # calculate gradients and backward pass\n",
    "    loss.backward()\n",
    "    # update model parameters(weights and biases)\n",
    "    optimizer.step()\n",
    "    \n",
    "    # Training info\n",
    "    if (epoch%2)==0:\n",
    "        print(f'Epoch: {epoch+1}/{epochs}, Loss: {loss:.2f}')"
   ]
  },
  {
   "cell_type": "code",
   "execution_count": null,
   "id": "ce5f47b3",
   "metadata": {},
   "outputs": [],
   "source": []
  }
 ],
 "metadata": {
  "kernelspec": {
   "display_name": "Python 3",
   "language": "python",
   "name": "python3"
  },
  "language_info": {
   "codemirror_mode": {
    "name": "ipython",
    "version": 3
   },
   "file_extension": ".py",
   "mimetype": "text/x-python",
   "name": "python",
   "nbconvert_exporter": "python",
   "pygments_lexer": "ipython3",
   "version": "3.8.8"
  }
 },
 "nbformat": 4,
 "nbformat_minor": 5
}
