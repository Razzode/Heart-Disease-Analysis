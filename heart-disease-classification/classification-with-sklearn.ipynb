{
 "cells": [
  {
   "cell_type": "markdown",
   "id": "9eeb8fc3",
   "metadata": {},
   "source": [
    "# Sci-kit learn "
   ]
  },
  {
   "cell_type": "code",
   "execution_count": 1,
   "id": "3f00122c",
   "metadata": {},
   "outputs": [],
   "source": [
    "# import the packages that we'd work with.\n",
    "import pandas as pd\n",
    "import numpy as np\n",
    "from sklearn.model_selection import train_test_split as tts\n",
    "from sklearn.preprocessing import StandardScaler, MinMaxScaler\n",
    "from sklearn.tree import DecisionTreeClassifier\n",
    "from sklearn.model_selection import cross_val_score\n",
    "from sklearn.ensemble import RandomForestClassifier\n",
    "from sklearn import svm\n",
    "from sklearn import neighbors\n",
    "from sklearn.naive_bayes import MultinomialNB\n",
    "from sklearn.linear_model import LogisticRegression"
   ]
  },
  {
   "cell_type": "code",
   "execution_count": 2,
   "id": "8213beb2",
   "metadata": {},
   "outputs": [
    {
     "data": {
      "text/html": [
       "<div>\n",
       "<style scoped>\n",
       "    .dataframe tbody tr th:only-of-type {\n",
       "        vertical-align: middle;\n",
       "    }\n",
       "\n",
       "    .dataframe tbody tr th {\n",
       "        vertical-align: top;\n",
       "    }\n",
       "\n",
       "    .dataframe thead th {\n",
       "        text-align: right;\n",
       "    }\n",
       "</style>\n",
       "<table border=\"1\" class=\"dataframe\">\n",
       "  <thead>\n",
       "    <tr style=\"text-align: right;\">\n",
       "      <th></th>\n",
       "      <th>Age</th>\n",
       "      <th>Sex</th>\n",
       "      <th>ChestPainType</th>\n",
       "      <th>RestingBP</th>\n",
       "      <th>Cholesterol</th>\n",
       "      <th>FastingBS</th>\n",
       "      <th>RestingECG</th>\n",
       "      <th>MaxHR</th>\n",
       "      <th>ExerciseAngina</th>\n",
       "      <th>Oldpeak</th>\n",
       "      <th>ST_Slope</th>\n",
       "      <th>HeartDisease</th>\n",
       "    </tr>\n",
       "  </thead>\n",
       "  <tbody>\n",
       "    <tr>\n",
       "      <th>0</th>\n",
       "      <td>40</td>\n",
       "      <td>M</td>\n",
       "      <td>ATA</td>\n",
       "      <td>140</td>\n",
       "      <td>289</td>\n",
       "      <td>0</td>\n",
       "      <td>Normal</td>\n",
       "      <td>172</td>\n",
       "      <td>N</td>\n",
       "      <td>0.0</td>\n",
       "      <td>Up</td>\n",
       "      <td>0</td>\n",
       "    </tr>\n",
       "    <tr>\n",
       "      <th>1</th>\n",
       "      <td>49</td>\n",
       "      <td>F</td>\n",
       "      <td>NAP</td>\n",
       "      <td>160</td>\n",
       "      <td>180</td>\n",
       "      <td>0</td>\n",
       "      <td>Normal</td>\n",
       "      <td>156</td>\n",
       "      <td>N</td>\n",
       "      <td>1.0</td>\n",
       "      <td>Flat</td>\n",
       "      <td>1</td>\n",
       "    </tr>\n",
       "    <tr>\n",
       "      <th>2</th>\n",
       "      <td>37</td>\n",
       "      <td>M</td>\n",
       "      <td>ATA</td>\n",
       "      <td>130</td>\n",
       "      <td>283</td>\n",
       "      <td>0</td>\n",
       "      <td>ST</td>\n",
       "      <td>98</td>\n",
       "      <td>N</td>\n",
       "      <td>0.0</td>\n",
       "      <td>Up</td>\n",
       "      <td>0</td>\n",
       "    </tr>\n",
       "    <tr>\n",
       "      <th>3</th>\n",
       "      <td>48</td>\n",
       "      <td>F</td>\n",
       "      <td>ASY</td>\n",
       "      <td>138</td>\n",
       "      <td>214</td>\n",
       "      <td>0</td>\n",
       "      <td>Normal</td>\n",
       "      <td>108</td>\n",
       "      <td>Y</td>\n",
       "      <td>1.5</td>\n",
       "      <td>Flat</td>\n",
       "      <td>1</td>\n",
       "    </tr>\n",
       "    <tr>\n",
       "      <th>4</th>\n",
       "      <td>54</td>\n",
       "      <td>M</td>\n",
       "      <td>NAP</td>\n",
       "      <td>150</td>\n",
       "      <td>195</td>\n",
       "      <td>0</td>\n",
       "      <td>Normal</td>\n",
       "      <td>122</td>\n",
       "      <td>N</td>\n",
       "      <td>0.0</td>\n",
       "      <td>Up</td>\n",
       "      <td>0</td>\n",
       "    </tr>\n",
       "  </tbody>\n",
       "</table>\n",
       "</div>"
      ],
      "text/plain": [
       "   Age Sex ChestPainType  RestingBP  Cholesterol  FastingBS RestingECG  MaxHR  \\\n",
       "0   40   M           ATA        140          289          0     Normal    172   \n",
       "1   49   F           NAP        160          180          0     Normal    156   \n",
       "2   37   M           ATA        130          283          0         ST     98   \n",
       "3   48   F           ASY        138          214          0     Normal    108   \n",
       "4   54   M           NAP        150          195          0     Normal    122   \n",
       "\n",
       "  ExerciseAngina  Oldpeak ST_Slope  HeartDisease  \n",
       "0              N      0.0       Up             0  \n",
       "1              N      1.0     Flat             1  \n",
       "2              N      0.0       Up             0  \n",
       "3              Y      1.5     Flat             1  \n",
       "4              N      0.0       Up             0  "
      ]
     },
     "execution_count": 2,
     "metadata": {},
     "output_type": "execute_result"
    }
   ],
   "source": [
    "# Load the data into a pandas dataframe\n",
    "df = pd.read_csv(r\"c:\\Users\\USER\\Desktop\\MyDatasets\\heart.csv\")\n",
    "df.head()"
   ]
  },
  {
   "cell_type": "markdown",
   "id": "914bbd10",
   "metadata": {},
   "source": [
    "# Preparing the data.\n",
    "1. First we replace categorical data with numeric values"
   ]
  },
  {
   "cell_type": "code",
   "execution_count": 15,
   "id": "96abd100",
   "metadata": {},
   "outputs": [
    {
     "data": {
      "text/html": [
       "<div>\n",
       "<style scoped>\n",
       "    .dataframe tbody tr th:only-of-type {\n",
       "        vertical-align: middle;\n",
       "    }\n",
       "\n",
       "    .dataframe tbody tr th {\n",
       "        vertical-align: top;\n",
       "    }\n",
       "\n",
       "    .dataframe thead th {\n",
       "        text-align: right;\n",
       "    }\n",
       "</style>\n",
       "<table border=\"1\" class=\"dataframe\">\n",
       "  <thead>\n",
       "    <tr style=\"text-align: right;\">\n",
       "      <th></th>\n",
       "      <th>Age</th>\n",
       "      <th>Sex</th>\n",
       "      <th>ChestPainType</th>\n",
       "      <th>RestingBP</th>\n",
       "      <th>Cholesterol</th>\n",
       "      <th>FastingBS</th>\n",
       "      <th>RestingECG</th>\n",
       "      <th>MaxHR</th>\n",
       "      <th>ExerciseAngina</th>\n",
       "      <th>Oldpeak</th>\n",
       "      <th>ST_Slope</th>\n",
       "      <th>HeartDisease</th>\n",
       "    </tr>\n",
       "  </thead>\n",
       "  <tbody>\n",
       "    <tr>\n",
       "      <th>0</th>\n",
       "      <td>40</td>\n",
       "      <td>1</td>\n",
       "      <td>0</td>\n",
       "      <td>140</td>\n",
       "      <td>289</td>\n",
       "      <td>0</td>\n",
       "      <td>0</td>\n",
       "      <td>172</td>\n",
       "      <td>0</td>\n",
       "      <td>0.0</td>\n",
       "      <td>0</td>\n",
       "      <td>0</td>\n",
       "    </tr>\n",
       "    <tr>\n",
       "      <th>1</th>\n",
       "      <td>49</td>\n",
       "      <td>0</td>\n",
       "      <td>1</td>\n",
       "      <td>160</td>\n",
       "      <td>180</td>\n",
       "      <td>0</td>\n",
       "      <td>0</td>\n",
       "      <td>156</td>\n",
       "      <td>0</td>\n",
       "      <td>1.0</td>\n",
       "      <td>1</td>\n",
       "      <td>1</td>\n",
       "    </tr>\n",
       "    <tr>\n",
       "      <th>2</th>\n",
       "      <td>37</td>\n",
       "      <td>1</td>\n",
       "      <td>0</td>\n",
       "      <td>130</td>\n",
       "      <td>283</td>\n",
       "      <td>0</td>\n",
       "      <td>1</td>\n",
       "      <td>98</td>\n",
       "      <td>0</td>\n",
       "      <td>0.0</td>\n",
       "      <td>0</td>\n",
       "      <td>0</td>\n",
       "    </tr>\n",
       "    <tr>\n",
       "      <th>3</th>\n",
       "      <td>48</td>\n",
       "      <td>0</td>\n",
       "      <td>2</td>\n",
       "      <td>138</td>\n",
       "      <td>214</td>\n",
       "      <td>0</td>\n",
       "      <td>0</td>\n",
       "      <td>108</td>\n",
       "      <td>1</td>\n",
       "      <td>1.5</td>\n",
       "      <td>1</td>\n",
       "      <td>1</td>\n",
       "    </tr>\n",
       "    <tr>\n",
       "      <th>4</th>\n",
       "      <td>54</td>\n",
       "      <td>1</td>\n",
       "      <td>1</td>\n",
       "      <td>150</td>\n",
       "      <td>195</td>\n",
       "      <td>0</td>\n",
       "      <td>0</td>\n",
       "      <td>122</td>\n",
       "      <td>0</td>\n",
       "      <td>0.0</td>\n",
       "      <td>0</td>\n",
       "      <td>0</td>\n",
       "    </tr>\n",
       "  </tbody>\n",
       "</table>\n",
       "</div>"
      ],
      "text/plain": [
       "   Age  Sex  ChestPainType  RestingBP  Cholesterol  FastingBS  RestingECG  \\\n",
       "0   40    1              0        140          289          0           0   \n",
       "1   49    0              1        160          180          0           0   \n",
       "2   37    1              0        130          283          0           1   \n",
       "3   48    0              2        138          214          0           0   \n",
       "4   54    1              1        150          195          0           0   \n",
       "\n",
       "   MaxHR  ExerciseAngina  Oldpeak  ST_Slope  HeartDisease  \n",
       "0    172               0      0.0         0             0  \n",
       "1    156               0      1.0         1             1  \n",
       "2     98               0      0.0         0             0  \n",
       "3    108               1      1.5         1             1  \n",
       "4    122               0      0.0         0             0  "
      ]
     },
     "execution_count": 15,
     "metadata": {},
     "output_type": "execute_result"
    }
   ],
   "source": [
    "df.Sex.replace(['F', 'M'], [0, 1], inplace=True)\n",
    "df.ChestPainType.replace(['ATA', 'NAP', 'ASY', 'TA'], [0, 1, 2, 3], inplace=True)\n",
    "df.RestingECG.replace(['Normal', 'ST', 'LVH'], [0, 1, 2], inplace=True)\n",
    "df.ExerciseAngina.replace(['N', 'Y'], [0, 1], inplace=True)\n",
    "df.ST_Slope.replace(['Up', 'Flat', 'Down'], [0, 1, 2], inplace=True)\n",
    "df.head()"
   ]
  },
  {
   "cell_type": "markdown",
   "id": "7a7417d0",
   "metadata": {},
   "source": [
    "2. We convert the dataframe to a numpy array **and** split the dataset into train and test segments "
   ]
  },
  {
   "cell_type": "code",
   "execution_count": 16,
   "id": "ad611427",
   "metadata": {},
   "outputs": [],
   "source": [
    "data = df.to_numpy()\n",
    "\n",
    "X = data[:, :11]\n",
    "Y = data[:, 11]\n",
    "\n",
    "X_train, X_test, Y_train, Y_test = tts(X, Y, test_size=0.2, random_state=1, shuffle=True)"
   ]
  },
  {
   "cell_type": "markdown",
   "id": "bf0ae20d",
   "metadata": {},
   "source": [
    "3. We scale our data, as most machine learning models do better when the input data is scaled or normalised."
   ]
  },
  {
   "cell_type": "code",
   "execution_count": 17,
   "id": "be2b46f6",
   "metadata": {},
   "outputs": [],
   "source": [
    "sc = StandardScaler()\n",
    "X_train_scaled = sc.fit_transform(X_train)\n",
    "X_test_scaled = sc.transform(X_test)"
   ]
  },
  {
   "cell_type": "markdown",
   "id": "f3c226e9",
   "metadata": {},
   "source": [
    "### Decision Tree Classifier"
   ]
  },
  {
   "cell_type": "code",
   "execution_count": 39,
   "id": "20007c73",
   "metadata": {},
   "outputs": [
    {
     "name": "stdout",
     "output_type": "stream",
     "text": [
      "Accuracy of model: 78%\n"
     ]
    }
   ],
   "source": [
    "dtc = DecisionTreeClassifier(random_state=1)\n",
    "dtc.fit(X_train_scaled, Y_train)\n",
    "accuracy = round(((dtc.score(X_test_scaled, Y_test)) * 100 ))\n",
    "print(f'Accuracy of model: {accuracy}%')"
   ]
  },
  {
   "cell_type": "markdown",
   "id": "d6e90eed",
   "metadata": {},
   "source": [
    "### Let's try something cheeky with the K-Fold cross_validation\n",
    "Perhaps we could improve the accuracy of the DecisionTreeClassifier"
   ]
  },
  {
   "cell_type": "code",
   "execution_count": 19,
   "id": "488a6da1",
   "metadata": {},
   "outputs": [
    {
     "name": "stdout",
     "output_type": "stream",
     "text": [
      "Accuracy of model: 79%\n"
     ]
    }
   ],
   "source": [
    "dtc = DecisionTreeClassifier(random_state=1)\n",
    "cv_scores = cross_val_score(dtc, X, Y, cv=26)\n",
    "accuracy = round((cv_scores.mean()) * 100)\n",
    "print(f'Accuracy of model: {accuracy}%')"
   ]
  },
  {
   "cell_type": "markdown",
   "id": "0b98a691",
   "metadata": {},
   "source": [
    "A little improvement. \n",
    "Generally, basic decision tree isn't so much of an efficient model choice."
   ]
  },
  {
   "cell_type": "markdown",
   "id": "93c6cecc",
   "metadata": {},
   "source": [
    "### RandomForestClassifier"
   ]
  },
  {
   "cell_type": "code",
   "execution_count": 44,
   "id": "7a8b0790",
   "metadata": {},
   "outputs": [
    {
     "name": "stdout",
     "output_type": "stream",
     "text": [
      "Accuracy of model: 90%\n"
     ]
    }
   ],
   "source": [
    "rfc = RandomForestClassifier(n_estimators=35, random_state=1)\n",
    "rfc.fit(X_train_scaled, Y_train)\n",
    "accuracy = round((rfc.score(X_test_scaled, Y_test) * 100))\n",
    "print(f'Accuracy of model: {accuracy}%')"
   ]
  },
  {
   "cell_type": "markdown",
   "id": "94d5fe1b",
   "metadata": {},
   "source": [
    "***Wow***!!! what a jump. 11% improvement on accuracy."
   ]
  },
  {
   "cell_type": "markdown",
   "id": "c633bfa6",
   "metadata": {},
   "source": [
    "### SVM"
   ]
  },
  {
   "cell_type": "code",
   "execution_count": 47,
   "id": "cd90fd9d",
   "metadata": {},
   "outputs": [
    {
     "name": "stdout",
     "output_type": "stream",
     "text": [
      "Accuracy of model: 91%\n"
     ]
    }
   ],
   "source": [
    "svc = svm.SVC(kernel='rbf', C=1.0)\n",
    "svc.fit(X_train_scaled, Y_train)\n",
    "accuracy = round((svc.score(X_test_scaled, Y_test))*100)\n",
    "print(f'Accuracy of model: {accuracy}%')"
   ]
  },
  {
   "cell_type": "markdown",
   "id": "0c2a4d50",
   "metadata": {},
   "source": [
    "The SVM model has upped accuracy by 1%, impressive."
   ]
  },
  {
   "cell_type": "markdown",
   "id": "f246c4df",
   "metadata": {},
   "source": [
    "### KNN (K-Nearest Neighbours)"
   ]
  },
  {
   "cell_type": "code",
   "execution_count": 50,
   "id": "983c29b9",
   "metadata": {},
   "outputs": [
    {
     "name": "stdout",
     "output_type": "stream",
     "text": [
      "Accuracy of model: 90%\n"
     ]
    }
   ],
   "source": [
    "knn = neighbors.KNeighborsClassifier(n_neighbors=10)\n",
    "knn.fit(X_train_scaled, Y_train)\n",
    "accuracy = round((knn.score(X_test_scaled, Y_test)) * 100)\n",
    "print(f'Accuracy of model: {accuracy}%')"
   ]
  },
  {
   "cell_type": "markdown",
   "id": "63e8e36c",
   "metadata": {},
   "source": [
    "When working with **KNNs**, choosing the K value is a bit tricky, so it's best to create a loop that train the model over different values of K. <br>\n",
    "Then we can go ahead to  select the K value with the highest accuracy."
   ]
  },
  {
   "cell_type": "code",
   "execution_count": 23,
   "id": "2ea1556c",
   "metadata": {},
   "outputs": [
    {
     "name": "stdout",
     "output_type": "stream",
     "text": [
      "Accuracy of model using K value of 1: 83%\n",
      "Accuracy of model using K value of 2: 80%\n",
      "Accuracy of model using K value of 3: 89%\n",
      "Accuracy of model using K value of 4: 88%\n",
      "Accuracy of model using K value of 5: 89%\n",
      "Accuracy of model using K value of 6: 89%\n",
      "Accuracy of model using K value of 7: 89%\n",
      "Accuracy of model using K value of 8: 89%\n",
      "Accuracy of model using K value of 9: 90%\n",
      "Accuracy of model using K value of 10: 90%\n",
      "Accuracy of model using K value of 11: 90%\n",
      "Accuracy of model using K value of 12: 91%\n",
      "Accuracy of model using K value of 13: 91%\n",
      "Accuracy of model using K value of 14: 90%\n",
      "Accuracy of model using K value of 15: 90%\n",
      "Accuracy of model using K value of 16: 90%\n",
      "Accuracy of model using K value of 17: 91%\n",
      "Accuracy of model using K value of 18: 90%\n",
      "Accuracy of model using K value of 19: 90%\n",
      "Accuracy of model using K value of 20: 89%\n",
      "Accuracy of model using K value of 21: 90%\n",
      "Accuracy of model using K value of 22: 90%\n",
      "Accuracy of model using K value of 23: 91%\n",
      "Accuracy of model using K value of 24: 90%\n",
      "Accuracy of model using K value of 25: 90%\n",
      "Accuracy of model using K value of 26: 90%\n",
      "Accuracy of model using K value of 27: 91%\n",
      "Accuracy of model using K value of 28: 91%\n",
      "Accuracy of model using K value of 29: 91%\n",
      "Accuracy of model using K value of 30: 91%\n",
      "Accuracy of model using K value of 31: 91%\n",
      "Accuracy of model using K value of 32: 91%\n",
      "Accuracy of model using K value of 33: 90%\n",
      "Accuracy of model using K value of 34: 90%\n",
      "Accuracy of model using K value of 35: 89%\n",
      "Accuracy of model using K value of 36: 90%\n",
      "Accuracy of model using K value of 37: 90%\n",
      "Accuracy of model using K value of 38: 90%\n",
      "Accuracy of model using K value of 39: 90%\n",
      "Accuracy of model using K value of 40: 90%\n",
      "Accuracy of model using K value of 41: 90%\n",
      "Accuracy of model using K value of 42: 90%\n",
      "Accuracy of model using K value of 43: 90%\n",
      "Accuracy of model using K value of 44: 90%\n",
      "Accuracy of model using K value of 45: 90%\n",
      "Accuracy of model using K value of 46: 90%\n",
      "Accuracy of model using K value of 47: 89%\n",
      "Accuracy of model using K value of 48: 90%\n",
      "Accuracy of model using K value of 49: 89%\n",
      "Accuracy of model using K value of 50: 89%\n"
     ]
    }
   ],
   "source": [
    "for i in range(1, 51):\n",
    "    knn = neighbors.KNeighborsClassifier(n_neighbors=i)\n",
    "    knn.fit(X_train_scaled, Y_train)\n",
    "    accuracy = round((knn.score(X_test_scaled, Y_test))*100)\n",
    "    print(f'Accuracy of model using K value of {i}: {accuracy}%')"
   ]
  },
  {
   "cell_type": "markdown",
   "id": "4173e62a",
   "metadata": {},
   "source": [
    "So we can see that some K values give a better result, now we can select the K value with the highest accuracy. <br>\n",
    "(K of 12, 13, 17, 23, 27-32)"
   ]
  },
  {
   "cell_type": "markdown",
   "id": "9f414ba5",
   "metadata": {},
   "source": [
    "### Naive Bayes\n",
    "It's important to note that the MultinomialNB model for sklearn doesn't take negative feature values, as regarding our earlier scaled features. <br>\n",
    "So we'll have to use the MinMaxScaler instead of the StandardScaler"
   ]
  },
  {
   "cell_type": "code",
   "execution_count": 53,
   "id": "ab36846e",
   "metadata": {},
   "outputs": [
    {
     "name": "stdout",
     "output_type": "stream",
     "text": [
      "Accuracy of the model: 89%\n"
     ]
    }
   ],
   "source": [
    "# scale the input features\n",
    "scaler = MinMaxScaler()\n",
    "X_train_minmax = scaler.fit_transform(X_train)\n",
    "X_test_minmax = scaler.transform(X_test)\n",
    "\n",
    "# define the classifier\n",
    "nb = MultinomialNB()\n",
    "nb.fit(X_train_minmax, Y_train)\n",
    "accuracy = round((nb.score(X_test_minmax, Y_test)) * 100)\n",
    "print(f'Accuracy of the model: {accuracy}%')"
   ]
  },
  {
   "cell_type": "markdown",
   "id": "457c98e3",
   "metadata": {},
   "source": [
    "Naive Bayes is 2 points back from the accuracy score to beat. <br>\n",
    "But the NB model did alright."
   ]
  },
  {
   "cell_type": "markdown",
   "id": "bfb7480f",
   "metadata": {},
   "source": [
    "### LogisticRegression\n",
    "We've seen the performance of all these fancy models.<br>\n",
    "But this is a basic binary classification so, let's try the LogisticRegression model which is a rather simpler approach to this type of classification"
   ]
  },
  {
   "cell_type": "code",
   "execution_count": 55,
   "id": "8476b1d2",
   "metadata": {},
   "outputs": [
    {
     "name": "stdout",
     "output_type": "stream",
     "text": [
      "Accuracy of the model: 88%\n"
     ]
    }
   ],
   "source": [
    "lr = LogisticRegression()\n",
    "lr.fit(X_train_scaled, Y_train)\n",
    "accuracy = round((lr.score(X_test_scaled, Y_test))*100)\n",
    "print(f'Accuracy of the model: {accuracy}%')"
   ]
  },
  {
   "cell_type": "markdown",
   "id": "8ec7a2ef",
   "metadata": {},
   "source": [
    "I've made up two samples of data,<br>\n",
    "the first sample is heart disease positive patient and <br>\n",
    "the second is a heart disease negative patient.<br>\n",
    "Let's see how these several models do in predicting the fact."
   ]
  },
  {
   "cell_type": "code",
   "execution_count": 57,
   "id": "a02d02e5",
   "metadata": {},
   "outputs": [
    {
     "name": "stdout",
     "output_type": "stream",
     "text": [
      "**Decision Tree Classifier**\n",
      "Patient 1 has a heart disease\n",
      "Patient 2 does not have a heart disease\n",
      "\n",
      "**Random Forest Classifier**\n",
      "Patient 1 has a heart disease\n",
      "Patient 2 does not have a heart disease\n",
      "\n",
      "**SVM**\n",
      "Patient 1 has a heart disease\n",
      "Patient 2 does not have a heart disease\n",
      "\n",
      "**KNN**\n",
      "Patient 1 has a heart disease\n",
      "Patient 2 does not have a heart disease\n",
      "\n",
      "**Naive Bayes**\n",
      "Patient 1 has a heart disease\n",
      "Patient 2 does not have a heart disease\n",
      "\n",
      "**Logistic Regression**\n",
      "Patient 1 has a heart disease\n",
      "Patient 2 does not have a heart disease\n"
     ]
    }
   ],
   "source": [
    "# I standardised the data prior to.\n",
    "patient_data = np.array([[-0.5789,  0.5220,  0.6349, -0.9879, -1.7750,  1.8279, -0.7600, -0.3676,\n",
    "         -0.8088, -0.8119,  0.6583], [-1.3316,  0.5216,  0.6352, -1.1563,  0.4743, -0.5473, -0.7599,  0.1890,\n",
    "         -0.8082, -0.8111, -1.0494]])\n",
    "\n",
    "print(f'**Decision Tree Classifier**')\n",
    "for i in range(len(patient_data)):\n",
    "    data = patient_data[i].reshape(1, -1)\n",
    "    predicted = dtc.predict(data)\n",
    "    if predicted==1:\n",
    "        print(f'Patient {i+1} has a heart disease')\n",
    "    else:\n",
    "        print(f'Patient {i+1} does not have a heart disease')\n",
    "        \n",
    "print(f'\\n**Random Forest Classifier**')\n",
    "for i in range(len(patient_data)):\n",
    "    data = patient_data[i].reshape(1, -1)\n",
    "    predicted = rfc.predict(data)\n",
    "    if predicted==1:\n",
    "        print(f'Patient {i+1} has a heart disease')\n",
    "    else:\n",
    "        print(f'Patient {i+1} does not have a heart disease')\n",
    "        \n",
    "print(f'\\n**SVM**')\n",
    "for i in range(len(patient_data)):\n",
    "    data = patient_data[i].reshape(1, -1)\n",
    "    predicted = svc.predict(data)\n",
    "    if predicted==1:\n",
    "        print(f'Patient {i+1} has a heart disease')\n",
    "    else:\n",
    "        print(f'Patient {i+1} does not have a heart disease')\n",
    "        \n",
    "print(f'\\n**KNN**')\n",
    "for i in range(len(patient_data)):\n",
    "    data = patient_data[i].reshape(1, -1)\n",
    "    predicted = knn.predict(data)\n",
    "    if predicted==1:\n",
    "        print(f'Patient {i+1} has a heart disease')\n",
    "    else:\n",
    "        print(f'Patient {i+1} does not have a heart disease')\n",
    "        \n",
    "print(f'\\n**Naive Bayes**')\n",
    "for i in range(len(patient_data)):\n",
    "    data = patient_data[i].reshape(1, -1)\n",
    "    predicted = nb.predict(data)\n",
    "    if predicted==1:\n",
    "        print(f'Patient {i+1} has a heart disease')\n",
    "    else:\n",
    "        print(f'Patient {i+1} does not have a heart disease')\n",
    "        \n",
    "print(f'\\n**Logistic Regression**')\n",
    "for i in range(len(patient_data)):\n",
    "    data = patient_data[i].reshape(1, -1)\n",
    "    predicted = lr.predict(data)\n",
    "    if predicted==1:\n",
    "        print(f'Patient {i+1} has a heart disease')\n",
    "    else:\n",
    "        print(f'Patient {i+1} does not have a heart disease')"
   ]
  },
  {
   "cell_type": "markdown",
   "id": "b4c9cdba",
   "metadata": {},
   "source": [
    "All the models did well in predicting the two samples correctly, even the <br>\n",
    "Decision Tree Classifier with 78% accuracy, still managed to come through."
   ]
  },
  {
   "cell_type": "code",
   "execution_count": null,
   "id": "b26319b2",
   "metadata": {},
   "outputs": [],
   "source": [
    "# ifunanyaScript"
   ]
  }
 ],
 "metadata": {
  "kernelspec": {
   "display_name": "Python 3",
   "language": "python",
   "name": "python3"
  },
  "language_info": {
   "codemirror_mode": {
    "name": "ipython",
    "version": 3
   },
   "file_extension": ".py",
   "mimetype": "text/x-python",
   "name": "python",
   "nbconvert_exporter": "python",
   "pygments_lexer": "ipython3",
   "version": "3.8.8"
  }
 },
 "nbformat": 4,
 "nbformat_minor": 5
}
